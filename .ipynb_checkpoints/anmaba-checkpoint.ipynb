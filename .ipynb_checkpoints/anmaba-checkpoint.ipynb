{
 "cells": [
  {
   "cell_type": "markdown",
   "id": "37276f19",
   "metadata": {},
   "source": [
    "anmaba"
   ]
  },
  {
   "cell_type": "markdown",
   "id": "6ecb8821",
   "metadata": {},
   "source": [
    "**WEB SCRAPING DE LA PÀGINA WEB DE LA BOLSA ESPAÑOLA AMB BEAUTIFUL SOUP**"
   ]
  },
  {
   "cell_type": "code",
   "execution_count": null,
   "id": "390f6278",
   "metadata": {},
   "outputs": [],
   "source": [
    "# Importo beautifulsoup i amb requests crido la pàgina web\n",
    "import requests\n",
    "from bs4 import BeautifulSoup\n",
    "borsa = requests.get('https://www.bolsamadrid.es/esp/aspx/Portada/Portada.aspx')\n",
    "borsaSoup = BeautifulSoup(borsa.text, 'lxml')\n",
    "print(borsaSoup)"
   ]
  },
  {
   "cell_type": "code",
   "execution_count": null,
   "id": "cefe8f58",
   "metadata": {},
   "outputs": [],
   "source": [
    "# Per saber el títol del web (objecte tipus Tag)\n",
    "borsaSoup.title"
   ]
  },
  {
   "cell_type": "code",
   "execution_count": null,
   "id": "096a6c81",
   "metadata": {},
   "outputs": [],
   "source": [
    "#Accedeixo als atributs a través de attrs (objecte tipus Tag)\n",
    "div_base = borsaSoup.div\n",
    "div_base['id']"
   ]
  },
  {
   "cell_type": "code",
   "execution_count": null,
   "id": "ca7eb416",
   "metadata": {},
   "outputs": [],
   "source": [
    "div_base.attrs"
   ]
  },
  {
   "cell_type": "code",
   "execution_count": null,
   "id": "5d7fec67",
   "metadata": {},
   "outputs": [],
   "source": [
    "# (objecte tipus NavigableString)\n",
    "primerParagraf = borsaSoup.p\n",
    "text = primerParagraf.string\n",
    "print(text)"
   ]
  },
  {
   "cell_type": "code",
   "execution_count": null,
   "id": "e5c67a79",
   "metadata": {},
   "outputs": [],
   "source": [
    "type(text)\n",
    "borsaSoup.meta['content']"
   ]
  },
  {
   "cell_type": "code",
   "execution_count": null,
   "id": "9b899a18",
   "metadata": {},
   "outputs": [],
   "source": [
    "# A part de fer servir etiquetes per arribar als objectes, podem fer servir l'atribut \"contents\", el generador \" children\" i el també generador \"descendents\"\n"
   ]
  },
  {
   "cell_type": "code",
   "execution_count": null,
   "id": "cc39dc86",
   "metadata": {},
   "outputs": [],
   "source": [
    "\n",
    "inner_div = borsaSoup.div.div"
   ]
  },
  {
   "cell_type": "code",
   "execution_count": null,
   "id": "1d29dbc9",
   "metadata": {},
   "outputs": [],
   "source": [
    "# contents\n",
    "fills = inner_div.contents\n",
    "print(fills)"
   ]
  },
  {
   "cell_type": "code",
   "execution_count": null,
   "id": "81713786",
   "metadata": {},
   "outputs": [],
   "source": [
    "for child in fills:\n",
    "    if child.name:  # Ignoramos los saltos de línea\n",
    "        print(f'{child.name}')"
   ]
  },
  {
   "cell_type": "code",
   "execution_count": null,
   "id": "729a026b",
   "metadata": {},
   "outputs": [],
   "source": [
    "# children\n",
    "filter = inner_div.children\n",
    "type(fills)"
   ]
  },
  {
   "cell_type": "code",
   "execution_count": null,
   "id": "6eac81d3",
   "metadata": {},
   "outputs": [],
   "source": [
    "for child in fills:\n",
    "    if child.name:  # Ignoramos los saltos de línea\n",
    "        print(f'{child.name}')"
   ]
  },
  {
   "cell_type": "code",
   "execution_count": null,
   "id": "3af4ed5b",
   "metadata": {},
   "outputs": [],
   "source": [
    "# descendants\n",
    "fills = inner_div.descendants\n",
    "for child in fills:\n",
    "    if child.name:\n",
    "        print(f'{child.name}')"
   ]
  },
  {
   "cell_type": "code",
   "execution_count": null,
   "id": "db6c8db0",
   "metadata": {},
   "outputs": [],
   "source": [
    "# Una altra forma de buscar és utilitzant el find i el find_all\n",
    "td = borsaSoup.find_all('td')\n",
    "for tds in td:\n",
    "    print(td)"
   ]
  },
  {
   "cell_type": "code",
   "execution_count": null,
   "id": "efab1897",
   "metadata": {},
   "outputs": [],
   "source": [
    "# Ara anem a filtrar per atributs\n",
    "atribut1 = borsaSoup.find_all(id='BuscadorCab')\n",
    "print(atribut1)"
   ]
  },
  {
   "cell_type": "code",
   "execution_count": null,
   "id": "bb9cd3c0",
   "metadata": {},
   "outputs": [],
   "source": [
    "atribut2 = borsaSoup.find_all(id='divBusq')\n",
    "print(atribut2)"
   ]
  },
  {
   "cell_type": "code",
   "execution_count": null,
   "id": "e03ed3f4",
   "metadata": {},
   "outputs": [],
   "source": [
    "# Filtrem per classes CSS, en aquest cas totes les classes que contenen Menu2\n",
    "css_menu2 = borsaSoup.find_all('div', class_=\"Menu2\")\n",
    "print(css_menu2)"
   ]
  },
  {
   "cell_type": "markdown",
   "id": "33a3731b",
   "metadata": {},
   "source": [
    "**WEB SCRAPING DE LA PÀGINA WEB DE LA WIKIPEDIA AMB BEAUTIFUL SOUP**"
   ]
  },
  {
   "cell_type": "code",
   "execution_count": null,
   "id": "88b2eb2d",
   "metadata": {},
   "outputs": [],
   "source": [
    "# Importo beautifulsoup i amb requests crido la pàgina web\n",
    "import requests\n",
    "from bs4 import BeautifulSoup\n",
    "wiki = requests.get('https://ca.wikipedia.org/wiki/Cortals_del_Mig')\n",
    "wikiSoup = BeautifulSoup(wiki.text, 'lxml')\n",
    "print(wikiSoup)"
   ]
  },
  {
   "cell_type": "code",
   "execution_count": null,
   "id": "36d93d13",
   "metadata": {},
   "outputs": [],
   "source": [
    "# Per saber el títol del web (objecte tipus Tag)\n",
    "wikiSoup.title"
   ]
  },
  {
   "cell_type": "code",
   "execution_count": null,
   "id": "f1cde71f",
   "metadata": {},
   "outputs": [],
   "source": [
    "#Accedeixo als atributs a través de attrs (objecte tipus Tag)\n",
    "div_main = wikiSoup.div\n",
    "div_main.attrs"
   ]
  },
  {
   "cell_type": "code",
   "execution_count": null,
   "id": "6a9c9a9e",
   "metadata": {},
   "outputs": [],
   "source": [
    "# (objecte tipus NavigableString)\n",
    "primerParagraf = wikiSoup.p\n",
    "text = primerParagraf.string\n",
    "print(text)"
   ]
  },
  {
   "cell_type": "code",
   "execution_count": null,
   "id": "e9e27077",
   "metadata": {},
   "outputs": [],
   "source": [
    "type(text)"
   ]
  },
  {
   "cell_type": "code",
   "execution_count": null,
   "id": "dd3a665d",
   "metadata": {},
   "outputs": [],
   "source": [
    "# A part de fer servir etiquetes per arribar als objectes, podem fer servir l'atribut \"contents\", el generador \" children\" i el també generador \"descendents\"\n"
   ]
  },
  {
   "cell_type": "code",
   "execution_count": null,
   "id": "1d5dce9c",
   "metadata": {},
   "outputs": [],
   "source": [
    "\n",
    "inner_div = wikiSoup.div.div"
   ]
  },
  {
   "cell_type": "code",
   "execution_count": null,
   "id": "c4ea29ca",
   "metadata": {},
   "outputs": [],
   "source": [
    "# contents\n",
    "fills = inner_div.contents\n",
    "print(fills)"
   ]
  },
  {
   "cell_type": "code",
   "execution_count": null,
   "id": "a043cb45",
   "metadata": {},
   "outputs": [],
   "source": [
    "for child in fills:\n",
    "    if child.name:  # Ignoramos los saltos de línea\n",
    "        print(f'{child.name}')"
   ]
  },
  {
   "cell_type": "code",
   "execution_count": null,
   "id": "e7880083",
   "metadata": {},
   "outputs": [],
   "source": [
    "# children\n",
    "filter = inner_div.children\n",
    "type(fills)"
   ]
  },
  {
   "cell_type": "code",
   "execution_count": null,
   "id": "f3710855",
   "metadata": {},
   "outputs": [],
   "source": [
    "for child in fills:\n",
    "    if child.name:  # Ignoramos los saltos de línea\n",
    "        print(f'{child.name}')"
   ]
  },
  {
   "cell_type": "code",
   "execution_count": null,
   "id": "eb6d01d7",
   "metadata": {},
   "outputs": [],
   "source": [
    "\n",
    "# descendants\n",
    "fills = inner_div.descendants\n",
    "for child in fills:\n",
    "    if child.name:\n",
    "        print(f'{child.name}')"
   ]
  },
  {
   "cell_type": "code",
   "execution_count": null,
   "id": "4314060a",
   "metadata": {},
   "outputs": [],
   "source": [
    "\n",
    "# Una altra forma de buscar és utilitzant el find i el find_all\n",
    "nav = wikiSoup.find_all('nav')\n",
    "for navs in nav:\n",
    "    print(nav)"
   ]
  },
  {
   "cell_type": "code",
   "execution_count": null,
   "id": "a1f5bc3b",
   "metadata": {},
   "outputs": [],
   "source": [
    "# Ara anem a filtrar per atributs\n",
    "atribut1 = wikiSoup.find_all(id='content')\n",
    "print(atribut1)"
   ]
  },
  {
   "cell_type": "code",
   "execution_count": null,
   "id": "0dc7f4e5",
   "metadata": {},
   "outputs": [],
   "source": [
    "\n",
    "atribut2 = wikiSoup.find_all(id='top')\n",
    "print(atribut2)"
   ]
  },
  {
   "cell_type": "code",
   "execution_count": null,
   "id": "ad806df8",
   "metadata": {},
   "outputs": [],
   "source": [
    "\n",
    "# Filtrem per classes CSS, en aquest cas totes les classes que contenen Menu2\n",
    "css_mw = wikiSoup.find_all('div', class_=\"mw\")\n",
    "print(css_mw)"
   ]
  },
  {
   "cell_type": "markdown",
   "id": "eea85733",
   "metadata": {},
   "source": [
    "**WEB SCRAPING DE LA PÀGINA WEB DE LA BOLSA ESPAÑOLA AMB SELENIUM**"
   ]
  },
  {
   "cell_type": "code",
   "execution_count": null,
   "id": "d260082c",
   "metadata": {},
   "outputs": [],
   "source": [
    "\n",
    "# Crida a les llibreries de selenium i del driver de Chorme, i obro i tanco una sessió\n",
    "\n",
    "from selenium import webdriver\n",
    "from selenium.webdriver.common.keys import Keys\n",
    "from selenium.webdriver.common.by import By\n",
    "from webdriver_manager.chrome import ChromeDriverManager\n",
    "from selenium.webdriver.chrome.options import Options as ChromeOptions\n",
    "\n",
    "\n",
    "op = webdriver.ChromeOptions()\n",
    "\n",
    "op.add_argument('--enable-extensions')\n",
    "\n",
    "borsaSelenium = webdriver.Chrome(options=op)"
   ]
  },
  {
   "cell_type": "code",
   "execution_count": null,
   "id": "7abec003",
   "metadata": {},
   "outputs": [],
   "source": [
    "# Activo la pàgina web\n",
    "borsaSelenium.get(\"https://www.bolsamadrid.es/esp/aspx/Portada/Portada.aspx\")"
   ]
  },
  {
   "cell_type": "code",
   "execution_count": null,
   "id": "f98e8486",
   "metadata": {},
   "outputs": [],
   "source": [
    "# Demano informació del web, en aquest cas el títol de la pàgina web\n",
    "title = borsaSelenium.title\n",
    "print(title)"
   ]
  },
  {
   "cell_type": "code",
   "execution_count": null,
   "id": "708f2719",
   "metadata": {},
   "outputs": [],
   "source": [
    "\n",
    "# Mostrar URL\n",
    "print(borsaSelenium.current_url)"
   ]
  },
  {
   "cell_type": "code",
   "execution_count": null,
   "id": "2a035295",
   "metadata": {},
   "outputs": [],
   "source": [
    "# Mostrar pàgina en HTML\n",
    "print(borsaSelenium.page_source)"
   ]
  },
  {
   "cell_type": "code",
   "execution_count": null,
   "id": "a6826410",
   "metadata": {},
   "outputs": [],
   "source": [
    "borsaSelenium.implicitly_wait(0.5)"
   ]
  },
  {
   "cell_type": "code",
   "execution_count": null,
   "id": "d3f19363",
   "metadata": {},
   "outputs": [],
   "source": [
    "# Interactuar amb elements de classe\n",
    "\n",
    "elementClasse = borsaSelenium.find_elements(by = By.CLASS_NAME, value=\"seg\")\n",
    "for el in elementClasse:\n",
    "    print(el.text)"
   ]
  },
  {
   "cell_type": "code",
   "execution_count": null,
   "id": "3a6bbee4",
   "metadata": {},
   "outputs": [],
   "source": [
    "# Interactuar amb elements de classe\n",
    "\n",
    "elementClasse2 = borsaSelenium.find_elements(by = By.CLASS_NAME, value=\"Menu1\")\n",
    "for el in elementClasse2:\n",
    "    print(el.text)"
   ]
  },
  {
   "cell_type": "code",
   "execution_count": null,
   "id": "e9aa1c60",
   "metadata": {},
   "outputs": [],
   "source": [
    "# Interactuar amb elements amb una taula\n",
    "import pandas as pd\n",
    "\n",
    "taula = borsaSelenium.page_source\n",
    "llista = pd.read_html(taula)\n",
    "\n",
    "len(llista)"
   ]
  },
  {
   "cell_type": "code",
   "execution_count": null,
   "id": "ff718ca6",
   "metadata": {},
   "outputs": [],
   "source": [
    "# Podem extreure 11 taules diferents, per tant les podríem anar imprimint per veure què contenen\n"
   ]
  },
  {
   "cell_type": "code",
   "execution_count": null,
   "id": "161e041d",
   "metadata": {},
   "outputs": [],
   "source": [
    "taulaA = llista[0]\n",
    "taulaA.to_csv('tableBorsaA.csv')\n",
    "taulaA"
   ]
  },
  {
   "cell_type": "code",
   "execution_count": null,
   "id": "48c74e6d",
   "metadata": {},
   "outputs": [],
   "source": [
    "\n",
    "taulaB = llista[1]\n",
    "taulaB.to_csv('tableBorsaB.csv')\n",
    "taulaB"
   ]
  },
  {
   "cell_type": "code",
   "execution_count": null,
   "id": "8ad78b60",
   "metadata": {},
   "outputs": [],
   "source": [
    "taulaC = llista[2]\n",
    "taulaC.to_csv('tableBorsaC.csv')\n",
    "taulaC"
   ]
  },
  {
   "cell_type": "code",
   "execution_count": null,
   "id": "896b92d4",
   "metadata": {},
   "outputs": [],
   "source": [
    "taulaD = llista[3]\n",
    "taulaD.to_csv('tableBorsaD.csv')\n",
    "taulaD"
   ]
  },
  {
   "cell_type": "code",
   "execution_count": null,
   "id": "9f8e4839",
   "metadata": {},
   "outputs": [],
   "source": [
    "taulaE = llista[4]\n",
    "taulaE.to_csv('tableBorsaE.csv')\n",
    "taulaE"
   ]
  },
  {
   "cell_type": "code",
   "execution_count": null,
   "id": "477500b0",
   "metadata": {},
   "outputs": [],
   "source": [
    "\n",
    "# anar continuant fins la 11"
   ]
  },
  {
   "cell_type": "code",
   "execution_count": null,
   "id": "7510b70c",
   "metadata": {},
   "outputs": [],
   "source": [
    "taulaK = llista[10]\n",
    "taulaK.to_csv('tableBorsaK.csv')\n",
    "taulaK"
   ]
  },
  {
   "cell_type": "code",
   "execution_count": null,
   "id": "4cf6f58d",
   "metadata": {},
   "outputs": [],
   "source": [
    "taulaH = llista[7]\n",
    "taulaH.to_csv('table.csv')\n",
    "taulaH"
   ]
  },
  {
   "cell_type": "markdown",
   "id": "50606048",
   "metadata": {},
   "source": [
    "**WEB SCRAPbING DE LA PÀGINA WEB DE LA WIKIPEDIA AMB SELENIUM**"
   ]
  },
  {
   "cell_type": "code",
   "execution_count": null,
   "id": "9fe76ad0",
   "metadata": {},
   "outputs": [],
   "source": [
    "# Crida a les llibreries de selenium i del driver de Chorme, i obro i tanco una sessió\n",
    "\n",
    "from selenium import webdriver\n",
    "from selenium.webdriver.common.keys import Keys\n",
    "from selenium.webdriver.common.by import By\n",
    "from webdriver_manager.chrome import ChromeDriverManager\n",
    "from selenium.webdriver.chrome.options import Options as ChromeOptions\n",
    "\n",
    "\n",
    "op = webdriver.ChromeOptions()\n",
    "\n",
    "op.add_argument('--enable-extensions')\n",
    "\n",
    "wikiSelenium = webdriver.Chrome(options=op)"
   ]
  },
  {
   "cell_type": "code",
   "execution_count": null,
   "id": "cb3b44f4",
   "metadata": {},
   "outputs": [],
   "source": [
    "# Activo la pàgina web\n",
    "wikiSelenium.get(\"https://ca.wikipedia.org/wiki/Cortals_del_Mig\")"
   ]
  },
  {
   "cell_type": "code",
   "execution_count": null,
   "id": "2768b303",
   "metadata": {},
   "outputs": [],
   "source": [
    "# Demano informació del web, en aquest cas el títol de la pàgina web\n",
    "title = wikiSelenium.title\n",
    "print(title)"
   ]
  },
  {
   "cell_type": "code",
   "execution_count": null,
   "id": "1b80896b",
   "metadata": {},
   "outputs": [],
   "source": [
    "# Mostrar URL\n",
    "print(wikiSelenium.current_url)"
   ]
  },
  {
   "cell_type": "code",
   "execution_count": null,
   "id": "234b2217",
   "metadata": {},
   "outputs": [],
   "source": [
    "# Mostrar pàgina en HTML\n",
    "print(wikiSelenium.page_source)"
   ]
  },
  {
   "cell_type": "code",
   "execution_count": null,
   "id": "199318a1",
   "metadata": {},
   "outputs": [],
   "source": [
    "wikiSelenium.implicitly_wait(0.5)"
   ]
  },
  {
   "cell_type": "code",
   "execution_count": null,
   "id": "a2fe8492",
   "metadata": {},
   "outputs": [],
   "source": [
    "# Interactuar amb elements de classe\n",
    "\n",
    "elementClasse = wikiSelenium.find_elements(by = By.CLASS_NAME, value=\"skin-vector\")\n",
    "for el in elementClasse:\n",
    "    print(el.text)"
   ]
  },
  {
   "cell_type": "code",
   "execution_count": null,
   "id": "83ff514e",
   "metadata": {},
   "outputs": [],
   "source": [
    "# Interactuar amb elements de classe\n",
    "\n",
    "elementClasse2 = wikiSelenium.find_elements(by = By.CLASS_NAME, value=\"oo-ui-element-hidden\")\n",
    "for el in elementClasse2:\n",
    "    print(el.text)"
   ]
  },
  {
   "cell_type": "code",
   "execution_count": null,
   "id": "9be2edbc",
   "metadata": {},
   "outputs": [],
   "source": [
    "# Interactuar amb elements amb una taula\n",
    "import pandas as pd\n",
    "\n",
    "taula = wikiSelenium.page_source\n",
    "llista = pd.read_html(taula)\n",
    "\n",
    "len(llista)"
   ]
  },
  {
   "cell_type": "code",
   "execution_count": null,
   "id": "a5840e7d",
   "metadata": {},
   "outputs": [],
   "source": [
    "# Podem extreure 5 taules diferents, per tant les podríem anar imprimint per veure què contenen\n",
    "\n",
    "taulaA = llista[0]\n",
    "taulaA.to_csv('tableWikiA.csv')\n",
    "taulaA"
   ]
  },
  {
   "cell_type": "code",
   "execution_count": null,
   "id": "b60632d6",
   "metadata": {},
   "outputs": [],
   "source": [
    "\n",
    "taulaB = llista[1]\n",
    "taulaB.to_csv('tableWikiB.csv')\n",
    "taulaB"
   ]
  },
  {
   "cell_type": "code",
   "execution_count": null,
   "id": "8ff20007",
   "metadata": {},
   "outputs": [],
   "source": [
    "taulaC = llista[2]\n",
    "taulaC.to_csv('tableWikiC.csv')\n",
    "taulaC"
   ]
  },
  {
   "cell_type": "code",
   "execution_count": null,
   "id": "78f60243",
   "metadata": {},
   "outputs": [],
   "source": [
    "taulaD = llista[3]\n",
    "taulaD.to_csv('tableWikiD.csv')\n",
    "taulaD"
   ]
  },
  {
   "cell_type": "code",
   "execution_count": null,
   "id": "cade9712",
   "metadata": {},
   "outputs": [],
   "source": [
    "taulaE = llista[4]\n",
    "taulaE.to_csv('tableWikiE.csv')\n",
    "taulaE"
   ]
  },
  {
   "cell_type": "markdown",
   "id": "aad3c8a6",
   "metadata": {},
   "source": [
    "**PÀGINA WEB DE NOVTEC AMB SELENIUM**"
   ]
  },
  {
   "cell_type": "code",
   "execution_count": null,
   "id": "622d02c9",
   "metadata": {},
   "outputs": [],
   "source": [
    "# Crida a les llibreries de selenium i del driver de Chorme, i obro i tanco una sessió\n",
    "\n",
    "from selenium import webdriver\n",
    "from selenium.webdriver.common.keys import Keys\n",
    "from selenium.webdriver.common.by import By\n",
    "from webdriver_manager.chrome import ChromeDriverManager\n",
    "from selenium.webdriver.chrome.options import Options as ChromeOptions\n",
    "\n",
    "\n",
    "op = webdriver.ChromeOptions()\n",
    "\n",
    "op.add_argument('--enable-extensions')\n",
    "\n",
    "novtecSelenium = webdriver.Chrome(options=op)"
   ]
  },
  {
   "cell_type": "code",
   "execution_count": null,
   "id": "4ecc9cd0",
   "metadata": {},
   "outputs": [],
   "source": [
    "\n",
    "# Activo la pàgina web\n",
    "novtecSelenium.get(\"http://novtec.es/ca/\")"
   ]
  },
  {
   "cell_type": "code",
   "execution_count": null,
   "id": "bcb0b7c4",
   "metadata": {},
   "outputs": [],
   "source": [
    "\n",
    "# Demano informació del web, en aquest cas el títol de la pàgina web\n",
    "title = novtecSelenium.title\n",
    "print(title)"
   ]
  },
  {
   "cell_type": "code",
   "execution_count": null,
   "id": "0b1f2b09",
   "metadata": {},
   "outputs": [],
   "source": [
    "\n",
    "# Mostrar URL\n",
    "print(novtecSelenium.current_url)"
   ]
  },
  {
   "cell_type": "code",
   "execution_count": null,
   "id": "efd3201e",
   "metadata": {},
   "outputs": [],
   "source": [
    "\n",
    "# Mostrar pàgina en HTML\n",
    "print(novtecSelenium.page_source)"
   ]
  },
  {
   "cell_type": "code",
   "execution_count": null,
   "id": "f0146390",
   "metadata": {},
   "outputs": [],
   "source": [
    "novtecSelenium.implicitly_wait(0.5)"
   ]
  },
  {
   "cell_type": "code",
   "execution_count": null,
   "id": "121e6dfa",
   "metadata": {},
   "outputs": [],
   "source": [
    "\n",
    "# Interactuar amb elements de classe\n",
    "\n",
    "elementClasse = novtecSelenium.find_elements(by = By.CLASS_NAME, value=\"header-area\")\n",
    "for el in elementClasse:\n",
    "    print(el.text)"
   ]
  },
  {
   "cell_type": "code",
   "execution_count": null,
   "id": "8f3dc3de",
   "metadata": {},
   "outputs": [],
   "source": [
    "# Interactuar amb elements de classe\n",
    "\n",
    "elementClasse2 = novtecSelenium.find_elements(by = By.CLASS_NAME, value=\"to-top\")\n",
    "for el in elementClasse2:\n",
    "    print(el.text)"
   ]
  },
  {
   "cell_type": "code",
   "execution_count": null,
   "id": "bdbab30b",
   "metadata": {},
   "outputs": [],
   "source": [
    "# Interactuar amb elements amb una taula\n",
    "import pandas as pd\n",
    "\n",
    "taula = novtecSelenium.page_source\n",
    "llista = pd.read_html(taula)\n",
    "\n",
    "len(llista)"
   ]
  },
  {
   "cell_type": "code",
   "execution_count": null,
   "id": "3fc1c634",
   "metadata": {},
   "outputs": [],
   "source": [
    "# Podem extreure 1 taules diferents, per tant les podríem anar imprimint per veure què contenen\n",
    "\n",
    "taulaA = llista[0]\n",
    "taulaA.to_csv('table.csv')\n",
    "taulaA"
   ]
  },
  {
   "cell_type": "markdown",
   "id": "0107f1b6",
   "metadata": {},
   "source": [
    "**PÀGINA WEB DE NOVTEC AMB SCRAPY**"
   ]
  },
  {
   "cell_type": "code",
   "execution_count": null,
   "id": "4ba8abd5",
   "metadata": {},
   "outputs": [],
   "source": [
    "import scrapy\n",
    "from twisted.internet import reactor\n",
    "from scrapy.crawler import CrawlerRunner\n",
    "from scrapy.utils.project import get_project_settings\n",
    "\n",
    "class NovtecSpider(scrapy.Spider):\n",
    "    name = 'webNovtec'\n",
    "    def start_requests(self):\n",
    "        urls = ['http://novtec.es/ca/']\n",
    "        for url in urls:\n",
    "            yield scrapy.Request(url=url, callback=self.parse)\n",
    "    \n",
    "\n",
    "   \n",
    "    def parse(self, response):\n",
    "        pagina = response.url.split(\"/\")[-2]\n",
    "        nom = f\"novtecNom-{pagina}.html\"\n",
    "        with open(nom, \"wb\") as f:\n",
    "            f.write(response.body)\n",
    "        self.log(f\"Document guardat {nom}\")\n",
    "        \n",
    "        "
   ]
  }
 ],
 "metadata": {
  "kernelspec": {
   "display_name": "Python 3 (ipykernel)",
   "language": "python",
   "name": "python3"
  },
  "language_info": {
   "codemirror_mode": {
    "name": "ipython",
    "version": 3
   },
   "file_extension": ".py",
   "mimetype": "text/x-python",
   "name": "python",
   "nbconvert_exporter": "python",
   "pygments_lexer": "ipython3",
   "version": "3.9.12"
  },
  "latex_envs": {
   "LaTeX_envs_menu_present": true,
   "autoclose": false,
   "autocomplete": true,
   "bibliofile": "biblio.bib",
   "cite_by": "apalike",
   "current_citInitial": 1,
   "eqLabelWithNumbers": true,
   "eqNumInitial": 1,
   "hotkeys": {
    "equation": "Ctrl-E",
    "itemize": "Ctrl-I"
   },
   "labels_anchors": false,
   "latex_user_defs": false,
   "report_style_numbering": false,
   "user_envs_cfg": false
  },
  "nbTranslate": {
   "displayLangs": [
    "*"
   ],
   "hotkey": "alt-t",
   "langInMainMenu": true,
   "sourceLang": "en",
   "targetLang": "fr",
   "useGoogleTranslate": true
  },
  "toc": {
   "base_numbering": 1,
   "nav_menu": {},
   "number_sections": true,
   "sideBar": true,
   "skip_h1_title": true,
   "title_cell": "Table of Contents",
   "title_sidebar": "Contents",
   "toc_cell": false,
   "toc_position": {},
   "toc_section_display": true,
   "toc_window_display": false
  },
  "varInspector": {
   "cols": {
    "lenName": 16,
    "lenType": 16,
    "lenVar": 40
   },
   "kernels_config": {
    "python": {
     "delete_cmd_postfix": "",
     "delete_cmd_prefix": "del ",
     "library": "var_list.py",
     "varRefreshCmd": "print(var_dic_list())"
    },
    "r": {
     "delete_cmd_postfix": ") ",
     "delete_cmd_prefix": "rm(",
     "library": "var_list.r",
     "varRefreshCmd": "cat(var_dic_list()) "
    }
   },
   "types_to_exclude": [
    "module",
    "function",
    "builtin_function_or_method",
    "instance",
    "_Feature"
   ],
   "window_display": false
  }
 },
 "nbformat": 4,
 "nbformat_minor": 5
}

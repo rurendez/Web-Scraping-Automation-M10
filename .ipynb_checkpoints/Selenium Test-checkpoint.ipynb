{
 "cells": [
  {
   "cell_type": "code",
   "execution_count": 1,
   "id": "8473fd00",
   "metadata": {
    "ExecuteTime": {
     "end_time": "2023-02-15T12:35:14.493767Z",
     "start_time": "2023-02-15T12:35:12.267266Z"
    }
   },
   "outputs": [],
   "source": [
    "from selenium import webdriver\n",
    "from selenium.webdriver.chrome.service import Service\n",
    "\n",
    "opts = webdriver.ChromeOptions()\n",
    "\n",
    "opts.binary_location = r'C:\\Program Files\\BraveSoftware\\Brave-Browser\\Application\\brave.exe'\n",
    "#opts.headless = True\n",
    "\n",
    "executable_path=r'C:\\WebDrivers\\chromedriver.exe'\n",
    "s = Service(executable_path)\n",
    "\n",
    "browser = webdriver.Chrome(service=s, options=opts)\n",
    "\n",
    "#driver = webdriver.Chrome(executable_path=r'C:\\WebDrivers\\chromedriver.exe', options=opts)\n",
    "browser.get(\"https://duckduckgo.com\")"
   ]
  },
  {
   "cell_type": "code",
   "execution_count": 2,
   "id": "8dde6980",
   "metadata": {
    "ExecuteTime": {
     "end_time": "2023-02-15T12:35:18.270580Z",
     "start_time": "2023-02-15T12:35:16.158076Z"
    }
   },
   "outputs": [],
   "source": [
    "search_form = browser.find_element('id', 'search_form_input_homepage')\n",
    "search_form.send_keys('real python')\n",
    "search_form.submit()"
   ]
  },
  {
   "cell_type": "code",
   "execution_count": 3,
   "id": "910fabe3",
   "metadata": {
    "ExecuteTime": {
     "end_time": "2023-02-15T12:32:02.760740Z",
     "start_time": "2023-02-15T12:32:02.740740Z"
    },
    "scrolled": true
   },
   "outputs": [],
   "source": [
    "from selenium.webdriver.common.by import By\n",
    "\n",
    "results = browser.find_elements(By.CLASS_NAME, \"results\")\n",
    "\n"
   ]
  },
  {
   "cell_type": "code",
   "execution_count": 4,
   "id": "0060b73d",
   "metadata": {
    "ExecuteTime": {
     "end_time": "2023-02-15T12:32:05.057987Z",
     "start_time": "2023-02-15T12:32:05.050987Z"
    }
   },
   "outputs": [
    {
     "name": "stdout",
     "output_type": "stream",
     "text": [
      "1\n"
     ]
    }
   ],
   "source": [
    "print(len(results))"
   ]
  },
  {
   "cell_type": "code",
   "execution_count": 5,
   "id": "837ea07a",
   "metadata": {
    "ExecuteTime": {
     "end_time": "2023-02-15T12:32:13.605251Z",
     "start_time": "2023-02-15T12:32:13.591256Z"
    }
   },
   "outputs": [
    {
     "name": "stdout",
     "output_type": "stream",
     "text": [
      "<selenium.webdriver.remote.webelement.WebElement (session=\"f9464f6159f31d15b241e300df280e73\", element=\"ca173717-0026-439e-825e-dcf0f1b79446\")>\n"
     ]
    }
   ],
   "source": [
    "print(results[0])"
   ]
  },
  {
   "cell_type": "code",
   "execution_count": 6,
   "id": "2ff00b0a",
   "metadata": {
    "ExecuteTime": {
     "end_time": "2023-02-15T12:32:14.717018Z",
     "start_time": "2023-02-15T12:32:14.602072Z"
    },
    "run_control": {
     "marked": false
    }
   },
   "outputs": [],
   "source": [
    "browser.close()\n",
    "quit()"
   ]
  },
  {
   "cell_type": "code",
   "execution_count": null,
   "id": "324fb381",
   "metadata": {},
   "outputs": [],
   "source": []
  },
  {
   "cell_type": "code",
   "execution_count": null,
   "id": "47b09439",
   "metadata": {},
   "outputs": [],
   "source": []
  },
  {
   "cell_type": "code",
   "execution_count": null,
   "id": "63bec743",
   "metadata": {},
   "outputs": [],
   "source": []
  }
 ],
 "metadata": {
  "kernelspec": {
   "display_name": "Python 3 (ipykernel)",
   "language": "python",
   "name": "python3"
  },
  "language_info": {
   "codemirror_mode": {
    "name": "ipython",
    "version": 3
   },
   "file_extension": ".py",
   "mimetype": "text/x-python",
   "name": "python",
   "nbconvert_exporter": "python",
   "pygments_lexer": "ipython3",
   "version": "3.9.12"
  },
  "latex_envs": {
   "LaTeX_envs_menu_present": true,
   "autoclose": false,
   "autocomplete": true,
   "bibliofile": "biblio.bib",
   "cite_by": "apalike",
   "current_citInitial": 1,
   "eqLabelWithNumbers": true,
   "eqNumInitial": 1,
   "hotkeys": {
    "equation": "Ctrl-E",
    "itemize": "Ctrl-I"
   },
   "labels_anchors": false,
   "latex_user_defs": false,
   "report_style_numbering": false,
   "user_envs_cfg": false
  },
  "nbTranslate": {
   "displayLangs": [
    "*"
   ],
   "hotkey": "alt-t",
   "langInMainMenu": true,
   "sourceLang": "en",
   "targetLang": "fr",
   "useGoogleTranslate": true
  },
  "toc": {
   "base_numbering": 1,
   "nav_menu": {},
   "number_sections": true,
   "sideBar": true,
   "skip_h1_title": true,
   "title_cell": "Table of Contents",
   "title_sidebar": "Contents",
   "toc_cell": false,
   "toc_position": {},
   "toc_section_display": true,
   "toc_window_display": false
  },
  "varInspector": {
   "cols": {
    "lenName": 16,
    "lenType": 16,
    "lenVar": 40
   },
   "kernels_config": {
    "python": {
     "delete_cmd_postfix": "",
     "delete_cmd_prefix": "del ",
     "library": "var_list.py",
     "varRefreshCmd": "print(var_dic_list())"
    },
    "r": {
     "delete_cmd_postfix": ") ",
     "delete_cmd_prefix": "rm(",
     "library": "var_list.r",
     "varRefreshCmd": "cat(var_dic_list()) "
    }
   },
   "types_to_exclude": [
    "module",
    "function",
    "builtin_function_or_method",
    "instance",
    "_Feature"
   ],
   "window_display": false
  }
 },
 "nbformat": 4,
 "nbformat_minor": 5
}

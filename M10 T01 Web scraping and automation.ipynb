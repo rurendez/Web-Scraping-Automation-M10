{
 "cells": [
  {
   "cell_type": "markdown",
   "id": "bad0f890",
   "metadata": {},
   "source": [
    "<span style='color:Blue'> \n",
    "\n",
    "**<font size=\"6\">Exercises - Data Science Sprint 10 - M10 T01</font>**\n",
    "\n",
    "**Web scraping and automation**</span>\n",
    "\n",
    "\n"
   ]
  },
  {
   "cell_type": "markdown",
   "id": "23a47f03",
   "metadata": {},
   "source": [
    "## Exercise 1: Performs web scraping of 2 websites \n",
    "    \n",
    "First using BeatifulSoup and then with Selenium"
   ]
  },
  {
   "cell_type": "markdown",
   "id": "985339f2",
   "metadata": {},
   "source": [
    "### BeatifulSoup scraping"
   ]
  },
  {
   "cell_type": "markdown",
   "id": "971db631",
   "metadata": {},
   "source": [
    "#### Using Beatiful Soup to scrape http://quotes.toscrape.com"
   ]
  },
  {
   "cell_type": "code",
   "execution_count": 1,
   "id": "28a96788",
   "metadata": {
    "ExecuteTime": {
     "end_time": "2023-02-20T00:16:27.852815Z",
     "start_time": "2023-02-20T00:16:25.658804Z"
    },
    "scrolled": true
   },
   "outputs": [
    {
     "name": "stdout",
     "output_type": "stream",
     "text": [
      "<!DOCTYPE html>\n",
      "<html lang=\"en\">\n",
      "<head>\n",
      "\t<meta charset=\"UTF-8\">\n",
      "\t<title>Quotes to Scrape</title>\n",
      "    <link rel=\"stylesheet\" href=\"/static/bootstrap.min.css\">\n",
      "    <link rel=\"stylesheet\" href=\"/static/main.css\">\n",
      "</head>\n",
      "<body>\n",
      "    <div class=\"container\">\n",
      "        <div class=\"row header-box\">\n",
      "            <div class=\"col-md-8\">\n",
      "                <h1>\n",
      "                    <a href=\"/\" style=\"text-decoration: none\">Quotes to Scrape</a>\n",
      "                </h1>\n",
      "            </div>\n",
      "            <div class=\"col-md-4\">\n",
      "                <p>\n",
      "                \n",
      "                    <a href=\"/login\">Login</a>\n",
      "                \n",
      "                </p>\n",
      "            </div>\n",
      "        </div>\n",
      "    \n",
      "\n",
      "<div class=\"row\">\n",
      "    <div class=\"col-md-8\">\n",
      "\n",
      "    <div class=\"quote\" itemscope itemtype=\"http://schema.org/CreativeWork\">\n",
      "        <span class=\"text\" itemprop=\"text\">“The world as we have created it is a process of our thinking. It cannot be changed without changing our thinking.”</span>\n",
      "        <span>by <small class=\"author\" itemprop=\"author\">Albert Einstein</small>\n",
      "        <a href=\"/author/Albert-Einstein\">(about)</a>\n",
      "        </span>\n",
      "        <div class=\"tags\">\n",
      "            Tags:\n",
      "            <meta class=\"keywords\" itemprop=\"keywords\" content=\"change,deep-thoughts,thinking,world\" /    > \n",
      "            \n",
      "            <a class=\"tag\" href=\"/tag/change/page/1/\">change</a>\n",
      "            \n",
      "            <a class=\"tag\" href=\"/tag/deep-thoughts/page/1/\">deep-thoughts</a>\n",
      "            \n",
      "            <a class=\"tag\" href=\"/tag/thinking/page/1/\">thinking</a>\n",
      "            \n",
      "            <a class=\"tag\" href=\"/tag/world/page/1/\">world</a>\n",
      "            \n",
      "        </div>\n",
      "    </div>\n",
      "\n",
      "    <div class=\"quote\" itemscope itemtype=\"http://schema.org/CreativeWork\">\n",
      "        <span class=\"text\" itemprop=\"text\">“It is our choices, Harry, that show what we truly are, far more than our abilities.”</span>\n",
      "        <span>by <small class=\"author\" itemprop=\"author\">J.K. Rowling</small>\n",
      "        <a href=\"/author/J-K-Rowling\">(about)</a>\n",
      "        </span>\n",
      "        <div class=\"tags\">\n",
      "            Tags:\n",
      "            <meta class=\"keywords\" itemprop=\"keywords\" content=\"abilities,choices\" /    > \n",
      "            \n",
      "            <a class=\"tag\" href=\"/tag/abilities/page/1/\">abilities</a>\n",
      "            \n",
      "            <a class=\"tag\" href=\"/tag/choices/page/1/\">choices</a>\n",
      "            \n",
      "        </div>\n",
      "    </div>\n",
      "\n",
      "    <div class=\"quote\" itemscope itemtype=\"http://schema.org/CreativeWork\">\n",
      "        <span class=\"text\" itemprop=\"text\">“There are only two ways to live your life. One is as though nothing is a miracle. The other is as though everything is a miracle.”</span>\n",
      "        <span>by <small class=\"author\" itemprop=\"author\">Albert Einstein</small>\n",
      "        <a href=\"/author/Albert-Einstein\">(about)</a>\n",
      "        </span>\n",
      "        <div class=\"tags\">\n",
      "            Tags:\n",
      "            <meta class=\"keywords\" itemprop=\"keywords\" content=\"inspirational,life,live,miracle,miracles\" /    > \n",
      "            \n",
      "            <a class=\"tag\" href=\"/tag/inspirational/page/1/\">inspirational</a>\n",
      "            \n",
      "            <a class=\"tag\" href=\"/tag/life/page/1/\">life</a>\n",
      "            \n",
      "            <a class=\"tag\" href=\"/tag/live/page/1/\">live</a>\n",
      "            \n",
      "            <a class=\"tag\" href=\"/tag/miracle/page/1/\">miracle</a>\n",
      "            \n",
      "            <a class=\"tag\" href=\"/tag/miracles/page/1/\">miracles</a>\n",
      "            \n",
      "        </div>\n",
      "    </div>\n",
      "\n",
      "    <div class=\"quote\" itemscope itemtype=\"http://schema.org/CreativeWork\">\n",
      "        <span class=\"text\" itemprop=\"text\">“The person, be it gentleman or lady, who has not pleasure in a good novel, must be intolerably stupid.”</span>\n",
      "        <span>by <small class=\"author\" itemprop=\"author\">Jane Austen</small>\n",
      "        <a href=\"/author/Jane-Austen\">(about)</a>\n",
      "        </span>\n",
      "        <div class=\"tags\">\n",
      "            Tags:\n",
      "            <meta class=\"keywords\" itemprop=\"keywords\" content=\"aliteracy,books,classic,humor\" /    > \n",
      "            \n",
      "            <a class=\"tag\" href=\"/tag/aliteracy/page/1/\">aliteracy</a>\n",
      "            \n",
      "            <a class=\"tag\" href=\"/tag/books/page/1/\">books</a>\n",
      "            \n",
      "            <a class=\"tag\" href=\"/tag/classic/page/1/\">classic</a>\n",
      "            \n",
      "            <a class=\"tag\" href=\"/tag/humor/page/1/\">humor</a>\n",
      "            \n",
      "        </div>\n",
      "    </div>\n",
      "\n",
      "    <div class=\"quote\" itemscope itemtype=\"http://schema.org/CreativeWork\">\n",
      "        <span class=\"text\" itemprop=\"text\">“Imperfection is beauty, madness is genius and it&#39;s better to be absolutely ridiculous than absolutely boring.”</span>\n",
      "        <span>by <small class=\"author\" itemprop=\"author\">Marilyn Monroe</small>\n",
      "        <a href=\"/author/Marilyn-Monroe\">(about)</a>\n",
      "        </span>\n",
      "        <div class=\"tags\">\n",
      "            Tags:\n",
      "            <meta class=\"keywords\" itemprop=\"keywords\" content=\"be-yourself,inspirational\" /    > \n",
      "            \n",
      "            <a class=\"tag\" href=\"/tag/be-yourself/page/1/\">be-yourself</a>\n",
      "            \n",
      "            <a class=\"tag\" href=\"/tag/inspirational/page/1/\">inspirational</a>\n",
      "            \n",
      "        </div>\n",
      "    </div>\n",
      "\n",
      "    <div class=\"quote\" itemscope itemtype=\"http://schema.org/CreativeWork\">\n",
      "        <span class=\"text\" itemprop=\"text\">“Try not to become a man of success. Rather become a man of value.”</span>\n",
      "        <span>by <small class=\"author\" itemprop=\"author\">Albert Einstein</small>\n",
      "        <a href=\"/author/Albert-Einstein\">(about)</a>\n",
      "        </span>\n",
      "        <div class=\"tags\">\n",
      "            Tags:\n",
      "            <meta class=\"keywords\" itemprop=\"keywords\" content=\"adulthood,success,value\" /    > \n",
      "            \n",
      "            <a class=\"tag\" href=\"/tag/adulthood/page/1/\">adulthood</a>\n",
      "            \n",
      "            <a class=\"tag\" href=\"/tag/success/page/1/\">success</a>\n",
      "            \n",
      "            <a class=\"tag\" href=\"/tag/value/page/1/\">value</a>\n",
      "            \n",
      "        </div>\n",
      "    </div>\n",
      "\n",
      "    <div class=\"quote\" itemscope itemtype=\"http://schema.org/CreativeWork\">\n",
      "        <span class=\"text\" itemprop=\"text\">“It is better to be hated for what you are than to be loved for what you are not.”</span>\n",
      "        <span>by <small class=\"author\" itemprop=\"author\">André Gide</small>\n",
      "        <a href=\"/author/Andre-Gide\">(about)</a>\n",
      "        </span>\n",
      "        <div class=\"tags\">\n",
      "            Tags:\n",
      "            <meta class=\"keywords\" itemprop=\"keywords\" content=\"life,love\" /    > \n",
      "            \n",
      "            <a class=\"tag\" href=\"/tag/life/page/1/\">life</a>\n",
      "            \n",
      "            <a class=\"tag\" href=\"/tag/love/page/1/\">love</a>\n",
      "            \n",
      "        </div>\n",
      "    </div>\n",
      "\n",
      "    <div class=\"quote\" itemscope itemtype=\"http://schema.org/CreativeWork\">\n",
      "        <span class=\"text\" itemprop=\"text\">“I have not failed. I&#39;ve just found 10,000 ways that won&#39;t work.”</span>\n",
      "        <span>by <small class=\"author\" itemprop=\"author\">Thomas A. Edison</small>\n",
      "        <a href=\"/author/Thomas-A-Edison\">(about)</a>\n",
      "        </span>\n",
      "        <div class=\"tags\">\n",
      "            Tags:\n",
      "            <meta class=\"keywords\" itemprop=\"keywords\" content=\"edison,failure,inspirational,paraphrased\" /    > \n",
      "            \n",
      "            <a class=\"tag\" href=\"/tag/edison/page/1/\">edison</a>\n",
      "            \n",
      "            <a class=\"tag\" href=\"/tag/failure/page/1/\">failure</a>\n",
      "            \n",
      "            <a class=\"tag\" href=\"/tag/inspirational/page/1/\">inspirational</a>\n",
      "            \n",
      "            <a class=\"tag\" href=\"/tag/paraphrased/page/1/\">paraphrased</a>\n",
      "            \n",
      "        </div>\n",
      "    </div>\n",
      "\n",
      "    <div class=\"quote\" itemscope itemtype=\"http://schema.org/CreativeWork\">\n",
      "        <span class=\"text\" itemprop=\"text\">“A woman is like a tea bag; you never know how strong it is until it&#39;s in hot water.”</span>\n",
      "        <span>by <small class=\"author\" itemprop=\"author\">Eleanor Roosevelt</small>\n",
      "        <a href=\"/author/Eleanor-Roosevelt\">(about)</a>\n",
      "        </span>\n",
      "        <div class=\"tags\">\n",
      "            Tags:\n",
      "            <meta class=\"keywords\" itemprop=\"keywords\" content=\"misattributed-eleanor-roosevelt\" /    > \n",
      "            \n",
      "            <a class=\"tag\" href=\"/tag/misattributed-eleanor-roosevelt/page/1/\">misattributed-eleanor-roosevelt</a>\n",
      "            \n",
      "        </div>\n",
      "    </div>\n",
      "\n",
      "    <div class=\"quote\" itemscope itemtype=\"http://schema.org/CreativeWork\">\n",
      "        <span class=\"text\" itemprop=\"text\">“A day without sunshine is like, you know, night.”</span>\n",
      "        <span>by <small class=\"author\" itemprop=\"author\">Steve Martin</small>\n",
      "        <a href=\"/author/Steve-Martin\">(about)</a>\n",
      "        </span>\n",
      "        <div class=\"tags\">\n",
      "            Tags:\n",
      "            <meta class=\"keywords\" itemprop=\"keywords\" content=\"humor,obvious,simile\" /    > \n",
      "            \n",
      "            <a class=\"tag\" href=\"/tag/humor/page/1/\">humor</a>\n",
      "            \n",
      "            <a class=\"tag\" href=\"/tag/obvious/page/1/\">obvious</a>\n",
      "            \n",
      "            <a class=\"tag\" href=\"/tag/simile/page/1/\">simile</a>\n",
      "            \n",
      "        </div>\n",
      "    </div>\n",
      "\n",
      "    <nav>\n",
      "        <ul class=\"pager\">\n",
      "            \n",
      "            \n",
      "            <li class=\"next\">\n",
      "                <a href=\"/page/2/\">Next <span aria-hidden=\"true\">&rarr;</span></a>\n",
      "            </li>\n",
      "            \n",
      "        </ul>\n",
      "    </nav>\n",
      "    </div>\n",
      "    <div class=\"col-md-4 tags-box\">\n",
      "        \n",
      "            <h2>Top Ten tags</h2>\n",
      "            \n",
      "            <span class=\"tag-item\">\n",
      "            <a class=\"tag\" style=\"font-size: 28px\" href=\"/tag/love/\">love</a>\n",
      "            </span>\n",
      "            \n",
      "            <span class=\"tag-item\">\n",
      "            <a class=\"tag\" style=\"font-size: 26px\" href=\"/tag/inspirational/\">inspirational</a>\n",
      "            </span>\n",
      "            \n",
      "            <span class=\"tag-item\">\n",
      "            <a class=\"tag\" style=\"font-size: 26px\" href=\"/tag/life/\">life</a>\n",
      "            </span>\n",
      "            \n",
      "            <span class=\"tag-item\">\n",
      "            <a class=\"tag\" style=\"font-size: 24px\" href=\"/tag/humor/\">humor</a>\n",
      "            </span>\n",
      "            \n",
      "            <span class=\"tag-item\">\n",
      "            <a class=\"tag\" style=\"font-size: 22px\" href=\"/tag/books/\">books</a>\n",
      "            </span>\n",
      "            \n",
      "            <span class=\"tag-item\">\n",
      "            <a class=\"tag\" style=\"font-size: 14px\" href=\"/tag/reading/\">reading</a>\n",
      "            </span>\n",
      "            \n",
      "            <span class=\"tag-item\">\n",
      "            <a class=\"tag\" style=\"font-size: 10px\" href=\"/tag/friendship/\">friendship</a>\n",
      "            </span>\n",
      "            \n",
      "            <span class=\"tag-item\">\n",
      "            <a class=\"tag\" style=\"font-size: 8px\" href=\"/tag/friends/\">friends</a>\n",
      "            </span>\n",
      "            \n",
      "            <span class=\"tag-item\">\n",
      "            <a class=\"tag\" style=\"font-size: 8px\" href=\"/tag/truth/\">truth</a>\n",
      "            </span>\n",
      "            \n",
      "            <span class=\"tag-item\">\n",
      "            <a class=\"tag\" style=\"font-size: 6px\" href=\"/tag/simile/\">simile</a>\n",
      "            </span>\n",
      "            \n",
      "        \n",
      "    </div>\n",
      "</div>\n",
      "\n",
      "    </div>\n",
      "    <footer class=\"footer\">\n",
      "        <div class=\"container\">\n",
      "            <p class=\"text-muted\">\n",
      "                Quotes by: <a href=\"https://www.goodreads.com/quotes\">GoodReads.com</a>\n",
      "            </p>\n",
      "            <p class=\"copyright\">\n",
      "                Made with <span class='sh-red'>❤</span> by <a href=\"https://scrapinghub.com\">Scrapinghub</a>\n",
      "            </p>\n",
      "        </div>\n",
      "    </footer>\n",
      "</body>\n",
      "</html>\n"
     ]
    }
   ],
   "source": [
    "# Retrieve the HTML file\n",
    "import requests\n",
    "from bs4 import BeautifulSoup\n",
    "import pandas as pd\n",
    "\n",
    "URL = \"http://quotes.toscrape.com/\"\n",
    "page = requests.get(URL)\n",
    "\n",
    "# Creation of BeatifulSoup object\n",
    "soup = BeautifulSoup(page.content, \"html.parser\")\n",
    "\n",
    "print(page.text)"
   ]
  },
  {
   "cell_type": "code",
   "execution_count": 2,
   "id": "395b02aa",
   "metadata": {
    "ExecuteTime": {
     "end_time": "2023-02-20T00:16:35.097733Z",
     "start_time": "2023-02-20T00:16:35.077800Z"
    },
    "scrolled": true
   },
   "outputs": [
    {
     "name": "stdout",
     "output_type": "stream",
     "text": [
      "<div class=\"container\">\n",
      " <div class=\"row header-box\">\n",
      "  <div class=\"col-md-8\">\n",
      "   <h1>\n",
      "    <a href=\"/\" style=\"text-decoration: none\">\n",
      "     Quotes to Scrape\n",
      "    </a>\n",
      "   </h1>\n",
      "  </div>\n",
      "  <div class=\"col-md-4\">\n",
      "   <p>\n",
      "    <a href=\"/login\">\n",
      "     Login\n",
      "    </a>\n",
      "   </p>\n",
      "  </div>\n",
      " </div>\n",
      " <div class=\"row\">\n",
      "  <div class=\"col-md-8\">\n",
      "   <div class=\"quote\" itemscope=\"\" itemtype=\"http://schema.org/CreativeWork\">\n",
      "    <span class=\"text\" itemprop=\"text\">\n",
      "     “The world as we have created it is a process of our thinking. It cannot be changed without changing our thinking.”\n",
      "    </span>\n",
      "    <span>\n",
      "     by\n",
      "     <small class=\"author\" itemprop=\"author\">\n",
      "      Albert Einstein\n",
      "     </small>\n",
      "     <a href=\"/author/Albert-Einstein\">\n",
      "      (about)\n",
      "     </a>\n",
      "    </span>\n",
      "    <div class=\"tags\">\n",
      "     Tags:\n",
      "     <meta class=\"keywords\" content=\"change,deep-thoughts,thinking,world\" itemprop=\"keywords\"/>\n",
      "     <a class=\"tag\" href=\"/tag/change/page/1/\">\n",
      "      change\n",
      "     </a>\n",
      "     <a class=\"tag\" href=\"/tag/deep-thoughts/page/1/\">\n",
      "      deep-thoughts\n",
      "     </a>\n",
      "     <a class=\"tag\" href=\"/tag/thinking/page/1/\">\n",
      "      thinking\n",
      "     </a>\n",
      "     <a class=\"tag\" href=\"/tag/world/page/1/\">\n",
      "      world\n",
      "     </a>\n",
      "    </div>\n",
      "   </div>\n",
      "   <div class=\"quote\" itemscope=\"\" itemtype=\"http://schema.org/CreativeWork\">\n",
      "    <span class=\"text\" itemprop=\"text\">\n",
      "     “It is our choices, Harry, that show what we truly are, far more than our abilities.”\n",
      "    </span>\n",
      "    <span>\n",
      "     by\n",
      "     <small class=\"author\" itemprop=\"author\">\n",
      "      J.K. Rowling\n",
      "     </small>\n",
      "     <a href=\"/author/J-K-Rowling\">\n",
      "      (about)\n",
      "     </a>\n",
      "    </span>\n",
      "    <div class=\"tags\">\n",
      "     Tags:\n",
      "     <meta class=\"keywords\" content=\"abilities,choices\" itemprop=\"keywords\"/>\n",
      "     <a class=\"tag\" href=\"/tag/abilities/page/1/\">\n",
      "      abilities\n",
      "     </a>\n",
      "     <a class=\"tag\" href=\"/tag/choices/page/1/\">\n",
      "      choices\n",
      "     </a>\n",
      "    </div>\n",
      "   </div>\n",
      "   <div class=\"quote\" itemscope=\"\" itemtype=\"http://schema.org/CreativeWork\">\n",
      "    <span class=\"text\" itemprop=\"text\">\n",
      "     “There are only two ways to live your life. One is as though nothing is a miracle. The other is as though everything is a miracle.”\n",
      "    </span>\n",
      "    <span>\n",
      "     by\n",
      "     <small class=\"author\" itemprop=\"author\">\n",
      "      Albert Einstein\n",
      "     </small>\n",
      "     <a href=\"/author/Albert-Einstein\">\n",
      "      (about)\n",
      "     </a>\n",
      "    </span>\n",
      "    <div class=\"tags\">\n",
      "     Tags:\n",
      "     <meta class=\"keywords\" content=\"inspirational,life,live,miracle,miracles\" itemprop=\"keywords\"/>\n",
      "     <a class=\"tag\" href=\"/tag/inspirational/page/1/\">\n",
      "      inspirational\n",
      "     </a>\n",
      "     <a class=\"tag\" href=\"/tag/life/page/1/\">\n",
      "      life\n",
      "     </a>\n",
      "     <a class=\"tag\" href=\"/tag/live/page/1/\">\n",
      "      live\n",
      "     </a>\n",
      "     <a class=\"tag\" href=\"/tag/miracle/page/1/\">\n",
      "      miracle\n",
      "     </a>\n",
      "     <a class=\"tag\" href=\"/tag/miracles/page/1/\">\n",
      "      miracles\n",
      "     </a>\n",
      "    </div>\n",
      "   </div>\n",
      "   <div class=\"quote\" itemscope=\"\" itemtype=\"http://schema.org/CreativeWork\">\n",
      "    <span class=\"text\" itemprop=\"text\">\n",
      "     “The person, be it gentleman or lady, who has not pleasure in a good novel, must be intolerably stupid.”\n",
      "    </span>\n",
      "    <span>\n",
      "     by\n",
      "     <small class=\"author\" itemprop=\"author\">\n",
      "      Jane Austen\n",
      "     </small>\n",
      "     <a href=\"/author/Jane-Austen\">\n",
      "      (about)\n",
      "     </a>\n",
      "    </span>\n",
      "    <div class=\"tags\">\n",
      "     Tags:\n",
      "     <meta class=\"keywords\" content=\"aliteracy,books,classic,humor\" itemprop=\"keywords\"/>\n",
      "     <a class=\"tag\" href=\"/tag/aliteracy/page/1/\">\n",
      "      aliteracy\n",
      "     </a>\n",
      "     <a class=\"tag\" href=\"/tag/books/page/1/\">\n",
      "      books\n",
      "     </a>\n",
      "     <a class=\"tag\" href=\"/tag/classic/page/1/\">\n",
      "      classic\n",
      "     </a>\n",
      "     <a class=\"tag\" href=\"/tag/humor/page/1/\">\n",
      "      humor\n",
      "     </a>\n",
      "    </div>\n",
      "   </div>\n",
      "   <div class=\"quote\" itemscope=\"\" itemtype=\"http://schema.org/CreativeWork\">\n",
      "    <span class=\"text\" itemprop=\"text\">\n",
      "     “Imperfection is beauty, madness is genius and it's better to be absolutely ridiculous than absolutely boring.”\n",
      "    </span>\n",
      "    <span>\n",
      "     by\n",
      "     <small class=\"author\" itemprop=\"author\">\n",
      "      Marilyn Monroe\n",
      "     </small>\n",
      "     <a href=\"/author/Marilyn-Monroe\">\n",
      "      (about)\n",
      "     </a>\n",
      "    </span>\n",
      "    <div class=\"tags\">\n",
      "     Tags:\n",
      "     <meta class=\"keywords\" content=\"be-yourself,inspirational\" itemprop=\"keywords\"/>\n",
      "     <a class=\"tag\" href=\"/tag/be-yourself/page/1/\">\n",
      "      be-yourself\n",
      "     </a>\n",
      "     <a class=\"tag\" href=\"/tag/inspirational/page/1/\">\n",
      "      inspirational\n",
      "     </a>\n",
      "    </div>\n",
      "   </div>\n",
      "   <div class=\"quote\" itemscope=\"\" itemtype=\"http://schema.org/CreativeWork\">\n",
      "    <span class=\"text\" itemprop=\"text\">\n",
      "     “Try not to become a man of success. Rather become a man of value.”\n",
      "    </span>\n",
      "    <span>\n",
      "     by\n",
      "     <small class=\"author\" itemprop=\"author\">\n",
      "      Albert Einstein\n",
      "     </small>\n",
      "     <a href=\"/author/Albert-Einstein\">\n",
      "      (about)\n",
      "     </a>\n",
      "    </span>\n",
      "    <div class=\"tags\">\n",
      "     Tags:\n",
      "     <meta class=\"keywords\" content=\"adulthood,success,value\" itemprop=\"keywords\"/>\n",
      "     <a class=\"tag\" href=\"/tag/adulthood/page/1/\">\n",
      "      adulthood\n",
      "     </a>\n",
      "     <a class=\"tag\" href=\"/tag/success/page/1/\">\n",
      "      success\n",
      "     </a>\n",
      "     <a class=\"tag\" href=\"/tag/value/page/1/\">\n",
      "      value\n",
      "     </a>\n",
      "    </div>\n",
      "   </div>\n",
      "   <div class=\"quote\" itemscope=\"\" itemtype=\"http://schema.org/CreativeWork\">\n",
      "    <span class=\"text\" itemprop=\"text\">\n",
      "     “It is better to be hated for what you are than to be loved for what you are not.”\n",
      "    </span>\n",
      "    <span>\n",
      "     by\n",
      "     <small class=\"author\" itemprop=\"author\">\n",
      "      André Gide\n",
      "     </small>\n",
      "     <a href=\"/author/Andre-Gide\">\n",
      "      (about)\n",
      "     </a>\n",
      "    </span>\n",
      "    <div class=\"tags\">\n",
      "     Tags:\n",
      "     <meta class=\"keywords\" content=\"life,love\" itemprop=\"keywords\"/>\n",
      "     <a class=\"tag\" href=\"/tag/life/page/1/\">\n",
      "      life\n",
      "     </a>\n",
      "     <a class=\"tag\" href=\"/tag/love/page/1/\">\n",
      "      love\n",
      "     </a>\n",
      "    </div>\n",
      "   </div>\n",
      "   <div class=\"quote\" itemscope=\"\" itemtype=\"http://schema.org/CreativeWork\">\n",
      "    <span class=\"text\" itemprop=\"text\">\n",
      "     “I have not failed. I've just found 10,000 ways that won't work.”\n",
      "    </span>\n",
      "    <span>\n",
      "     by\n",
      "     <small class=\"author\" itemprop=\"author\">\n",
      "      Thomas A. Edison\n",
      "     </small>\n",
      "     <a href=\"/author/Thomas-A-Edison\">\n",
      "      (about)\n",
      "     </a>\n",
      "    </span>\n",
      "    <div class=\"tags\">\n",
      "     Tags:\n",
      "     <meta class=\"keywords\" content=\"edison,failure,inspirational,paraphrased\" itemprop=\"keywords\"/>\n",
      "     <a class=\"tag\" href=\"/tag/edison/page/1/\">\n",
      "      edison\n",
      "     </a>\n",
      "     <a class=\"tag\" href=\"/tag/failure/page/1/\">\n",
      "      failure\n",
      "     </a>\n",
      "     <a class=\"tag\" href=\"/tag/inspirational/page/1/\">\n",
      "      inspirational\n",
      "     </a>\n",
      "     <a class=\"tag\" href=\"/tag/paraphrased/page/1/\">\n",
      "      paraphrased\n",
      "     </a>\n",
      "    </div>\n",
      "   </div>\n",
      "   <div class=\"quote\" itemscope=\"\" itemtype=\"http://schema.org/CreativeWork\">\n",
      "    <span class=\"text\" itemprop=\"text\">\n",
      "     “A woman is like a tea bag; you never know how strong it is until it's in hot water.”\n",
      "    </span>\n",
      "    <span>\n",
      "     by\n",
      "     <small class=\"author\" itemprop=\"author\">\n",
      "      Eleanor Roosevelt\n",
      "     </small>\n",
      "     <a href=\"/author/Eleanor-Roosevelt\">\n",
      "      (about)\n",
      "     </a>\n",
      "    </span>\n",
      "    <div class=\"tags\">\n",
      "     Tags:\n",
      "     <meta class=\"keywords\" content=\"misattributed-eleanor-roosevelt\" itemprop=\"keywords\"/>\n",
      "     <a class=\"tag\" href=\"/tag/misattributed-eleanor-roosevelt/page/1/\">\n",
      "      misattributed-eleanor-roosevelt\n",
      "     </a>\n",
      "    </div>\n",
      "   </div>\n",
      "   <div class=\"quote\" itemscope=\"\" itemtype=\"http://schema.org/CreativeWork\">\n",
      "    <span class=\"text\" itemprop=\"text\">\n",
      "     “A day without sunshine is like, you know, night.”\n",
      "    </span>\n",
      "    <span>\n",
      "     by\n",
      "     <small class=\"author\" itemprop=\"author\">\n",
      "      Steve Martin\n",
      "     </small>\n",
      "     <a href=\"/author/Steve-Martin\">\n",
      "      (about)\n",
      "     </a>\n",
      "    </span>\n",
      "    <div class=\"tags\">\n",
      "     Tags:\n",
      "     <meta class=\"keywords\" content=\"humor,obvious,simile\" itemprop=\"keywords\"/>\n",
      "     <a class=\"tag\" href=\"/tag/humor/page/1/\">\n",
      "      humor\n",
      "     </a>\n",
      "     <a class=\"tag\" href=\"/tag/obvious/page/1/\">\n",
      "      obvious\n",
      "     </a>\n",
      "     <a class=\"tag\" href=\"/tag/simile/page/1/\">\n",
      "      simile\n",
      "     </a>\n",
      "    </div>\n",
      "   </div>\n",
      "   <nav>\n",
      "    <ul class=\"pager\">\n",
      "     <li class=\"next\">\n",
      "      <a href=\"/page/2/\">\n",
      "       Next\n",
      "       <span aria-hidden=\"true\">\n",
      "        →\n",
      "       </span>\n",
      "      </a>\n",
      "     </li>\n",
      "    </ul>\n",
      "   </nav>\n",
      "  </div>\n",
      "  <div class=\"col-md-4 tags-box\">\n",
      "   <h2>\n",
      "    Top Ten tags\n",
      "   </h2>\n",
      "   <span class=\"tag-item\">\n",
      "    <a class=\"tag\" href=\"/tag/love/\" style=\"font-size: 28px\">\n",
      "     love\n",
      "    </a>\n",
      "   </span>\n",
      "   <span class=\"tag-item\">\n",
      "    <a class=\"tag\" href=\"/tag/inspirational/\" style=\"font-size: 26px\">\n",
      "     inspirational\n",
      "    </a>\n",
      "   </span>\n",
      "   <span class=\"tag-item\">\n",
      "    <a class=\"tag\" href=\"/tag/life/\" style=\"font-size: 26px\">\n",
      "     life\n",
      "    </a>\n",
      "   </span>\n",
      "   <span class=\"tag-item\">\n",
      "    <a class=\"tag\" href=\"/tag/humor/\" style=\"font-size: 24px\">\n",
      "     humor\n",
      "    </a>\n",
      "   </span>\n",
      "   <span class=\"tag-item\">\n",
      "    <a class=\"tag\" href=\"/tag/books/\" style=\"font-size: 22px\">\n",
      "     books\n",
      "    </a>\n",
      "   </span>\n",
      "   <span class=\"tag-item\">\n",
      "    <a class=\"tag\" href=\"/tag/reading/\" style=\"font-size: 14px\">\n",
      "     reading\n",
      "    </a>\n",
      "   </span>\n",
      "   <span class=\"tag-item\">\n",
      "    <a class=\"tag\" href=\"/tag/friendship/\" style=\"font-size: 10px\">\n",
      "     friendship\n",
      "    </a>\n",
      "   </span>\n",
      "   <span class=\"tag-item\">\n",
      "    <a class=\"tag\" href=\"/tag/friends/\" style=\"font-size: 8px\">\n",
      "     friends\n",
      "    </a>\n",
      "   </span>\n",
      "   <span class=\"tag-item\">\n",
      "    <a class=\"tag\" href=\"/tag/truth/\" style=\"font-size: 8px\">\n",
      "     truth\n",
      "    </a>\n",
      "   </span>\n",
      "   <span class=\"tag-item\">\n",
      "    <a class=\"tag\" href=\"/tag/simile/\" style=\"font-size: 6px\">\n",
      "     simile\n",
      "    </a>\n",
      "   </span>\n",
      "  </div>\n",
      " </div>\n",
      "</div>\n",
      "\n"
     ]
    }
   ],
   "source": [
    "# Let's find class container\n",
    "results = soup.find(class_=\"container\")\n",
    "\n",
    "# And show what we have found\n",
    "print(results.prettify())"
   ]
  },
  {
   "cell_type": "code",
   "execution_count": 3,
   "id": "5d7a196b",
   "metadata": {
    "ExecuteTime": {
     "end_time": "2023-02-20T00:16:42.381634Z",
     "start_time": "2023-02-20T00:16:42.373655Z"
    },
    "scrolled": true
   },
   "outputs": [
    {
     "name": "stdout",
     "output_type": "stream",
     "text": [
      "Total of quotes:  10 \n",
      "\n",
      "{'text': '“The world as we have created it is a process of our thinking. It cannot be changed without changing our thinking.”', 'author': 'Albert Einstein', 'tags': ['change', 'deep-thoughts', 'thinking', 'world']} \n",
      "\n",
      "{'text': '“It is our choices, Harry, that show what we truly are, far more than our abilities.”', 'author': 'J.K. Rowling', 'tags': ['abilities', 'choices']} \n",
      "\n",
      "{'text': '“There are only two ways to live your life. One is as though nothing is a miracle. The other is as though everything is a miracle.”', 'author': 'Albert Einstein', 'tags': ['inspirational', 'life', 'live', 'miracle', 'miracles']} \n",
      "\n",
      "{'text': '“The person, be it gentleman or lady, who has not pleasure in a good novel, must be intolerably stupid.”', 'author': 'Jane Austen', 'tags': ['aliteracy', 'books', 'classic', 'humor']} \n",
      "\n",
      "{'text': \"“Imperfection is beauty, madness is genius and it's better to be absolutely ridiculous than absolutely boring.”\", 'author': 'Marilyn Monroe', 'tags': ['be-yourself', 'inspirational']} \n",
      "\n",
      "{'text': '“Try not to become a man of success. Rather become a man of value.”', 'author': 'Albert Einstein', 'tags': ['adulthood', 'success', 'value']} \n",
      "\n",
      "{'text': '“It is better to be hated for what you are than to be loved for what you are not.”', 'author': 'André Gide', 'tags': ['life', 'love']} \n",
      "\n",
      "{'text': \"“I have not failed. I've just found 10,000 ways that won't work.”\", 'author': 'Thomas A. Edison', 'tags': ['edison', 'failure', 'inspirational', 'paraphrased']} \n",
      "\n",
      "{'text': \"“A woman is like a tea bag; you never know how strong it is until it's in hot water.”\", 'author': 'Eleanor Roosevelt', 'tags': ['misattributed-eleanor-roosevelt']} \n",
      "\n",
      "{'text': '“A day without sunshine is like, you know, night.”', 'author': 'Steve Martin', 'tags': ['humor', 'obvious', 'simile']} \n",
      "\n"
     ]
    }
   ],
   "source": [
    "# Now we can find the information taht we want to obtain, quotes.\n",
    "quote_elements = results.find_all(\"div\", class_=\"quote\")\n",
    "\n",
    "# Create a blank dictionari to place the results\n",
    "quotes_dict = []\n",
    "\n",
    "for quote_elements in quote_elements:\n",
    "    text = quote_elements.find(class_=\"text\").text\n",
    "    author = quote_elements.find(class_=\"author\").text\n",
    "    tags = [tag.text for tag in quote_elements.find_all(\"a\", class_=\"tag\")]\n",
    "    quotes_dict.append({\"text\": text, \"author\": author, \"tags\": tags})\n",
    "    \n",
    "print(\"Total of quotes: \", len(quotes_dict), \"\\n\") \n",
    "for i in quotes_dict:\n",
    "    print(i, \"\\n\")"
   ]
  },
  {
   "cell_type": "code",
   "execution_count": 4,
   "id": "8bfb7b2e",
   "metadata": {
    "ExecuteTime": {
     "end_time": "2023-02-20T00:16:53.161993Z",
     "start_time": "2023-02-20T00:16:53.140068Z"
    }
   },
   "outputs": [],
   "source": [
    "# create dataframe\n",
    "df = pd.DataFrame(quotes_dict) \n",
    "\n",
    "# saving the dataframe \n",
    "df.to_csv('quotes_bs.csv', index=False) "
   ]
  },
  {
   "cell_type": "markdown",
   "id": "750bbbf9",
   "metadata": {},
   "source": [
    "#### Using Beatiful Soup to scrape https://www.bolsamadrid.es"
   ]
  },
  {
   "cell_type": "code",
   "execution_count": 5,
   "id": "6019ada2",
   "metadata": {
    "ExecuteTime": {
     "end_time": "2023-02-20T12:18:19.254468Z",
     "start_time": "2023-02-20T12:18:17.766584Z"
    },
    "scrolled": true
   },
   "outputs": [
    {
     "name": "stdout",
     "output_type": "stream",
     "text": [
      "\n",
      "<!DOCTYPE html>\n",
      "\n",
      "<html lang=\"es\">\n",
      "<head data-app-path=\"/bme-exchange\" data-hora-act=\"Mon, 20 Feb 2023 13:18:19 GMT\" data-idioma=\"es\"><meta charset=\"utf-8\"/><meta content=\"IE=edge\" http-equiv=\"X-UA-Compatible\"/><meta content=\"width=device-width, initial-scale=1\" name=\"viewport\"/><meta content=\"text/html; charset=utf-8\" http-equiv=\"Content-Type\"/><meta content=\"La Bolsa de Madrid es una institución que canaliza el ahorro hacía la inversión productiva y facilita la movilidad de la riqueza en el desarrollo de España.\" id=\"Description\" name=\"description\"/><meta content=\"Copyright © BME 2023\" id=\"copyright\" name=\"copyright\"/><meta content=\"BME Exchange\" property=\"og:site_name\"/><meta content=\"es\" property=\"og:locale\"/><meta content=\"website\" property=\"og:type\"/><meta content=\"summary_large_image\" property=\"twitter:card\"/><meta content=\"@GrupoBME\" property=\"twitter:site\"/><meta content=\"Bolsa de Madrid | BME Exchange\" property=\"og:title\"/><meta content=\"Bolsa de Madrid | BME Exchange\" property=\"twitter:title\"/><meta content=\"La Bolsa de Madrid es una institución que canaliza el ahorro hacía la inversión productiva y facilita la movilidad de la riqueza en el desarrollo de España.\" property=\"og:description\"/><meta content=\"La Bolsa de Madrid es una institución que canaliza el ahorro hacía la inversión productiva y facilita la movilidad de la riqueza en el desarrollo de España.\" property=\"twitter:description\"/><meta content=\"https://www.bolsasymercados.es/bme-exchange/es/Bolsa-Madrid\" property=\"og:url\"/><meta content=\"https://www.bolsasymercados.es/bme-exchange/es/Bolsa-Madrid\" property=\"twitter:url\"/><meta content=\"https://www.bolsasymercados.es/bme-exchange/images/imgsSubidas/Webs_Bolsas/Bolsa-de-Madrid-BME.gif\" property=\"og:image\"/><meta content=\"https://www.bolsasymercados.es/bme-exchange/images/imgsSubidas/Webs_Bolsas/Bolsa-de-Madrid-BME.gif\" property=\"twitter:image\"/><link href=\"https://www.bolsasymercados.es/bme-exchange/es/Bolsa-Madrid\" id=\"CanonicalLink\" rel=\"canonical\"/><link href=\"https://www.bolsasymercados.es/bme-exchange/es/Bolsa-Madrid\" hreflang=\"es\" id=\"langLinkSelf\" rel=\"alternate\"/><link href=\"https://www.bolsasymercados.es/bme-exchange/en/Madrid-Stock-Exchange\" hreflang=\"en\" id=\"langLinkOther\" rel=\"alternate\"/><link href=\"//use.typekit.net/fag2lie.css\" rel=\"stylesheet\"/><script defer=\"\" src=\"/bme-exchange/js/Master?v=X6xj-2AlmMQtfRPQnNdB9dd66gbf1t3iVmzg-Ty14g01\"></script>\n",
      "<link href=\"/bme-exchange/css/css?v=ilBy1YR9ZiZkq2N0WXlpla1PqZ3tf9dXXUcwUIllTHU1\" rel=\"stylesheet\"/>\n",
      "<!-- OneTrust -->\n",
      "<script charset=\"UTF-8\" data-document-language=\"true\" data-domain-script=\"848a4ce2-ee9d-424b-8508-fbc5b12c4591\" src=\"https://cdn.cookielaw.org/scripttemplates/otSDKStub.js\" type=\"text/javascript\"></script>\n",
      "<!-- End OneTrust -->\n",
      "<!-- Google Tag Manager -->\n",
      "<script id=\"GTM\">(function(w,d,s,l,i){w[l]=[{'pageLanguage':'es','service':'bme-exchange','pagePurpose':'brand-recognition','target':'market-members,media,stake-holders,general-public-others','bussinessTopic':'listing,trading,market-prices,indices,education'}];const g=document.cookie.match(/_ga=(.+?);/);g&&w[l].push({gaClientId:g[1].split('.').slice(-2).join('.')});w[l].push({'gtm.start':new Date().getTime(),event:'gtm.js'});var f=d.getElementsByTagName(s)[0],j=d.createElement(s),dl=l!='dataLayer'?'&l='+l:'';j.async=true;j.src='https://www.googletagmanager.com/gtm.js?id='+i+dl+'';f.parentNode.insertBefore(j,f);})(window,document,'script','dataLayer','GTM-TJNWXNT');</script>\n",
      "<!-- End Google Tag Manager -->\n",
      "<title>\r\n",
      "\tBolsa de Madrid | BME Exchange\r\n",
      "</title></head>\n",
      "<body id=\"se_top\">\n",
      "<!-- Google Tag Manager (noscript) -->\n",
      "<noscript><iframe height=\"0\" src=\"https://www.googletagmanager.com/ns.html?id=GTM-TJNWXNT\" style=\"display:none;visibility:hidden\" width=\"0\"></iframe></noscript>\n",
      "<!-- End Google Tag Manager (noscript) -->\n",
      "<svg class=\"hidden\" xmlns=\"http://www.w3.org/2000/svg\"><symbol height=\"40\" id=\"cross-icon\" viewbox=\"0 0 40 40\" width=\"40\"><g transform=\"translate(11 11)\"><line class=\"a\" x1=\"18\" y2=\"18\"></line><line class=\"a\" transform=\"translate(18 0) rotate(90)\" x1=\"18\" y2=\"18\"></line></g><g><circle class=\"b\" cx=\"20\" cy=\"20\" r=\"18\"></circle></g></symbol><symbol height=\"28\" id=\"search-icon\" viewbox=\"0 0 18.2 28\" width=\"18.2\"><g transform=\"translate(0 5)\"><circle class=\"c\" cx=\"8\" cy=\"8\" r=\"7.2\"></circle><line class=\"c\" x1=\"13.8\" x2=\"16.5\" y1=\"13.8\" y2=\"16.5\"></line></g></symbol><symbol height=\"28\" id=\"private-icon\" viewbox=\"0 0 15.3 28\" width=\"15.3\"><g transform=\"translate(0 5)\"><path class=\"c\" d=\"M1.3,9.2c0-0.8,0.7-1.5,1.5-1.5h10c0.8,0,1.5,0.7,1.5,1.5v6.4c0,0.8-0.7,1.5-1.5,1.5h-10 c-0.8,0-1.5-0.7-1.5-1.5V9.2z M3.3,6.3V4.4C3.3,2,5.3,0,7.7,0c2.4,0,4.4,2,4.4,4.4v1.9\"></path><line class=\"c\" x1=\"7.7\" x2=\"7.7\" y1=\"10.2\" y2=\"15.1\"></line></g></symbol><symbol height=\"28\" id=\"mail-icon\" viewbox=\"0 0 21 28\" width=\"21\"><g transform=\"translate(0 5)\"><rect class=\"c\" height=\"13.5\" width=\"19.5\" x=\"0.8\" y=\"2.8\"></rect><path class=\"c\" d=\"M1.2,3l9.4,8.6l9.3-8.9L1.2,3z\"></path></g></symbol></svg>\n",
      "<a href=\"#main-content\" id=\"skip-nav-link\" tabindex=\"1\">Saltar Navegación</a>\n",
      "<header id=\"Cabecera\">\n",
      "<nav aria-label=\"Navegación web corporativa\" class=\"hidden-print\" role=\"navigation\">\n",
      "<div class=\"corporate-web collapse\" id=\"corporate-web-menu\"><div class=\"container\"><div class=\"row\">\n",
      "<div>\n",
      "<a class=\"bme-brand\" href=\"/esp/Home\" tabindex=\"8\" target=\"_blank\" title=\"Web Corporativa BME\">\n",
      "<img alt=\"Logo BME\" aria-hidden=\"true\" src=\"/bme-exchange/images/base/Logo.svg\"/>\n",
      "<span class=\"corporate-web-btn\">Web Corporativa<span class=\"glyphicon glyphicon-menu-right\"></span></span>\n",
      "</a>\n",
      "<ul class=\"nav navbar-nav bme-menu\">\n",
      "<li><a href=\"/esp/Sobre-BME\" tabindex=\"9\" target=\"_blank\">Sobre<br/>BME</a></li><li><a href=\"/esp/Informacion-Corporativa\" tabindex=\"10\" target=\"_blank\">Información<br/>Corporativa</a></li><li><a href=\"/esp/Sala-Comunicacion\" tabindex=\"11\" target=\"_blank\">Sala de<br/>Comunicación</a></li><li><a href=\"/esp/Estudios-Publicaciones\" tabindex=\"12\" target=\"_blank\">Publicaciones y<br/>Estadísticas</a></li><li><a href=\"/esp/Sostenibilidad\" tabindex=\"13\" target=\"_blank\">Sostenibilidad</a></li><li><a href=\"/esp/Formacion\" tabindex=\"14\" target=\"_blank\">Formación<br/>Instituto BME</a></li>\n",
      "</ul>\n",
      "<a class=\"bme-close\" data-toggle=\"collapse\" href=\"#corporate-web-menu\" role=\"button\">\n",
      "<svg height=\"40\" viewbox=\"0 0 40 40\" width=\"40\"><use href=\"#cross-icon\" xlink:href=\"cross-icon\"></use></svg>\n",
      "<span class=\"sr-only\">Cerrar</span>\n",
      "</a>\n",
      "</div>\n",
      "<div class=\"flecha-dropdown\"><div></div><div></div></div>\n",
      "</div></div></div>\n",
      "</nav>\n",
      "<nav aria-label=\"Navegación principal\" class=\"navbar\" id=\"menu-superior\" role=\"navigation\"><div class=\"container\">\n",
      "<div class=\"navbar-header\">\n",
      "<a class=\"navbar-brand\" href=\"/bme-exchange/es/Home\" tabindex=\"2\" target=\"_self\" title=\"BME Exchange\">\n",
      "<img alt=\"BME Logo\" aria-hidden=\"true\" src=\"/bme-exchange/images/base/Logo.svg\"/>\n",
      "</a>\n",
      "<strong class=\"navbar-claim\">La Bolsa es ahora BME Exchange</strong>\n",
      "<ul class=\"nav navbar-nav navbar-right icon-menu-superior hidden-print\" id=\"top-menu-movil\">\n",
      "<li class=\"btn-return\">\n",
      "<button id=\"btn-return-main\" role=\"button\" type=\"button\">Menú Principal</button>\n",
      "</li>\n",
      "<li class=\"btn-menu\">\n",
      "<button aria-expanded=\"false\" class=\"collapsed\" data-target=\"#navbar-menu\" data-toggle=\"collapse\" role=\"button\" type=\"button\">\n",
      "<span class=\"icon-bar\"></span>\n",
      "<span class=\"icon-bar\"></span>\n",
      "<span class=\"icon-bar\"></span>\n",
      "</button>\n",
      "</li>\n",
      "<li class=\"btn-icon dropdown\">\n",
      "<a data-toggle=\"dropdown\" href=\"#\" role=\"button\" tabindex=\"3\">\n",
      "<svg height=\"28\" viewbox=\"0 0 18.2 28\" width=\"18.2\"><use href=\"#search-icon\" xlink:href=\"search-icon\"></use></svg>\n",
      "<span class=\"sr-only\">Buscador</span>\n",
      "</a>\n",
      "<div class=\"header-popover\" id=\"search\">\n",
      "<div class=\"header-popover-flecha\"><div></div><div></div></div>\n",
      "<div class=\"header-popover-title\">\n",
      "<svg height=\"28\" viewbox=\"0 0 18.2 28\" width=\"18.2\"><use href=\"#search-icon\" xlink:href=\"search-icon\"></use></svg>\n",
      "<span>BUSCADOR</span>\n",
      "</div>\n",
      "<div class=\"header-popover-line\">\n",
      "<form action=\"/bme-exchange/es/Buscar\" aria-label=\"\" role=\"search\">\n",
      "<label for=\"search-text\">BUSCAR</label>\n",
      "<div class=\"form-group\">\n",
      "<input autocomplete=\"off\" class=\"form-control\" id=\"search-text\" name=\"q\" placeholder=\"Introducir texto a buscar\" type=\"text\"/>\n",
      "<button class=\"header-popover-btn\" type=\"submit\"><span>Buscar</span><span class=\"glyphicon glyphicon-menu-right\"></span></button>\n",
      "</div>\n",
      "</form>\n",
      "</div>\n",
      "<div class=\"header-popover-line\">\n",
      "<form action=\"/bme-exchange/es/Mercados-y-Cotizaciones/Acciones/Mercado-Continuo/Busqueda-Empresas\" aria-label=\"\" role=\"search\">\n",
      "<label for=\"search-company\">BUSCADOR DE EMPRESAS</label>\n",
      "<div class=\"form-group\">\n",
      "<input aria-label=\"Introducir nombre, ISIN o ticker a buscar\" autocomplete=\"off\" class=\"form-control\" data-apì=\"https://www.bolsasymercados.es/API/Market\" data-url=\"/bme-exchange/\" id=\"search-company\" name=\"q\" placeholder=\"Nombre / ISIN / Ticker\" type=\"text\"/>\n",
      "<button class=\"header-popover-btn\" type=\"submit\"><span>Buscar</span><span class=\"glyphicon glyphicon-menu-right\"></span></button>\n",
      "</div>\n",
      "</form>\n",
      "</div>\n",
      "</div>\n",
      "</li>\n",
      "<li class=\"btn-icon dropdown\">\n",
      "<a data-toggle=\"dropdown\" href=\"#\" role=\"button\" tabindex=\"4\">\n",
      "<svg height=\"28\" viewbox=\"0 0 15.3 28\" width=\"15.3\"><use href=\"#private-icon\" xlink:href=\"private-icon\"></use></svg>\n",
      "<span class=\"sr-only\">Áreas Privadas</span>\n",
      "</a>\n",
      "<div class=\"header-popover\" id=\"private\">\n",
      "<div class=\"header-popover-flecha\"><div></div><div></div></div>\n",
      "<div class=\"header-popover-title\">\n",
      "<svg height=\"28\" viewbox=\"0 0 15.3 28\" width=\"15.3\"><use href=\"#private-icon\" xlink:href=\"private-icon\"></use></svg>\n",
      "<span>ÁREAS PRIVADAS</span>\n",
      "</div>\n",
      "<div class=\"header-popover-line header-popover-login-line\"><label>MIEMBROS RENTA VARIABLE</label><a class=\"header-popover-btn\" href=\"https://privada.bmerv.es/\" target=\"_blank\">Login<span class=\"glyphicon glyphicon-menu-right\"></span></a></div><div class=\"header-popover-line header-popover-login-line\"><label>BME GROWTH</label><a class=\"header-popover-btn\" href=\"https://www.bmegrowth.es/Privado/LogIn.aspx\" target=\"_blank\">Login<span class=\"glyphicon glyphicon-menu-right\"></span></a></div><div class=\"header-popover-line header-popover-login-line\"><label>MIEMBROS RENTA FIJA</label><a class=\"header-popover-btn\" href=\"https://ww2.aiaf.es/\" target=\"_blank\">Login<span class=\"glyphicon glyphicon-menu-right\"></span></a></div>\n",
      "</div>\n",
      "</li>\n",
      "<li class=\"btn-icon\">\n",
      "<a href=\"/bme-exchange/es/Contacto#Informacion-General\" tabindex=\"5\">\n",
      "<svg height=\"28\" viewbox=\"0 0 21 28\" width=\"21\"><use href=\"#mail-icon\" xlink:href=\"mail-icon\"></use></svg>\n",
      "<span class=\"sr-only\">Contacto</span>\n",
      "</a>\n",
      "</li>\n",
      "<li class=\"btn-language\">\n",
      "<a class=\"language-anchor\" href=\"/bme-exchange/en/Madrid-Stock-Exchange\" hreflang=\"en\" id=\"otroIdioma\" tabindex=\"6\">\n",
      "<span aria-hidden=\"true\"><strong>ES</strong> <b>|</b> EN</span>\n",
      "<span class=\"sr-only\">English</span>\n",
      "</a>\n",
      "</li>\n",
      "<li class=\"hidden-xs corporate-web-btn\">\n",
      "<a class=\"collapsed\" data-toggle=\"collapse\" href=\"#corporate-web-menu\" role=\"button\" tabindex=\"7\">\n",
      "<span><img alt=\"Logo BME\" aria-hidden=\"true\" src=\"/bme-exchange/images/base/FlechaBME.svg\"/></span>\n",
      "<span>BME<br/>CORPORATE</span>\n",
      "</a>\n",
      "</li>\n",
      "<li class=\"btn-menu-close\">\n",
      "<button id=\"close-menu\" role=\"button\" type=\"button\">\n",
      "<svg height=\"40\" viewbox=\"0 0 40 40\" width=\"40\"><use href=\"#cross-icon\" xlink:href=\"cross-icon\"></use></svg>\n",
      "<span class=\"sr-only\">Cerrar</span>\n",
      "</button>\n",
      "</li>\n",
      "</ul>\n",
      "</div>\n",
      "<div class=\"navbar-header hidden-print\">\n",
      "<ul class=\"nav navbar-nav collapse navbar-collapse op-menu-superior yamm\" id=\"navbar-menu\">\n",
      "<li class=\"dropdown\"><a aria-expanded=\"false\" aria-haspopup=\"true\" class=\"dropdown-toggle\" data-toggle=\"dropdown\" href=\"/bme-exchange/es/Como-Cotizar\" role=\"button\">Cotizar</a><div class=\"flecha-dropdown\"><div></div><div></div></div><ul class=\"dropdown-menu\"><li class=\"container-fluid\"><div class=\"row\"><a class=\"col-sm-12 dropdown-overview\" href=\"/bme-exchange/es/Como-Cotizar\" target=\"_self\"><span class=\"menu-overview-title\">Cotizar</span><span class=\"menu-overview-btn\">Descubre más<span class=\"glyphicon glyphicon-menu-right\"></span></span><span class=\"menu-overview-claim\">Financia tus ambiciones de crecimiento</span></a></div><div class=\"row menu-options\"><div class=\"col-sm-2\"><ul class=\"menu-list\"><li><a aria-expanded=\"false\" class=\"visible-xs-block collapsed\" data-toggle=\"collapse\" href=\"#menu24\">Acciones</a><div class=\"collapse mobile-menu-2\" id=\"menu24\"><div class=\"btn-return-2lv\"><button data-target=\"#menu24\" data-toggle=\"collapse\" role=\"button\" type=\"button\">Cotizar</button></div><a class=\"\" href=\"/bme-exchange/es/Como-Cotizar/Cotizar-en-Bolsa\" target=\"_self\">Acciones</a><ul><li><a class=\"\" href=\"/bme-exchange/es/Como-Cotizar/Bolsa/Como-salir-a-Bolsa\" target=\"_self\">Cotizar en Bolsa</a></li><li><a class=\"\" href=\"/bme-exchange/es/Como-Cotizar/Bolsa/BME-Growth\" target=\"_self\">Cotizar en BME Growth</a></li><li><a class=\"\" href=\"/bme-exchange/es/Como-Cotizar/Bolsa/Latibex\" target=\"_self\">Cotizar en Latibex</a></li></ul></div></li></ul></div><div class=\"col-sm-2\"><ul class=\"menu-list\"><li><a aria-expanded=\"false\" class=\"visible-xs-block collapsed\" data-toggle=\"collapse\" href=\"#menu28\">Renta Fija</a><div class=\"collapse mobile-menu-2\" id=\"menu28\"><div class=\"btn-return-2lv\"><button data-target=\"#menu28\" data-toggle=\"collapse\" role=\"button\" type=\"button\">Cotizar</button></div><a class=\"\" href=\"/bme-exchange/es/Como-Cotizar/Renta-Fija\" target=\"_self\">Renta Fija</a><ul><li><a class=\"\" href=\"/bme-exchange/es/Como-Cotizar/Renta-Fija/AIAF\" target=\"_self\">Mercados Regulados - AIAF</a></li><li><a class=\"\" href=\"/bme-exchange/es/Como-Cotizar/Renta-Fija/MARF\" target=\"_self\">Mercado Alternativo - MARF</a></li></ul></div></li></ul></div><div class=\"col-sm-2\"><ul class=\"menu-list\"><li><a class=\"\" href=\"/bme-exchange/es/Como-Cotizar/ETFs\" target=\"_self\">ETFs</a></li></ul></div><div class=\"col-sm-2\"><ul class=\"menu-list\"><li><a class=\"\" href=\"/bme-exchange/es/Como-Cotizar/Warrants\" target=\"_self\">Warrants</a></li></ul></div><div class=\"col-sm-2\"><ul class=\"menu-list\"><li><a class=\"\" href=\"https://www.meff.es/esp/Sobre-Nosotros/Empresa-MEFF\" target=\"_blank\">Derivados</a></li></ul></div><div class=\"col-sm-2\"><ul class=\"menu-list\"><li><a class=\"\" href=\"https://www.bolsasymercados.es/BME_4Companies/esp/Home\" target=\"_blank\">Servicios para Emisores</a></li></ul></div></div></li></ul></li><li class=\"dropdown\"><a aria-expanded=\"false\" aria-haspopup=\"true\" class=\"dropdown-toggle\" data-toggle=\"dropdown\" href=\"/bme-exchange/es/Negociar\" role=\"button\">Negociar</a><div class=\"flecha-dropdown\"><div></div><div></div></div><ul class=\"dropdown-menu\"><li class=\"container-fluid\"><div class=\"row\"><a class=\"col-sm-12 dropdown-overview\" href=\"/bme-exchange/es/Negociar\" target=\"_self\"><span class=\"menu-overview-title\">Negociar</span><span class=\"menu-overview-btn\">Descubre más<span class=\"glyphicon glyphicon-menu-right\"></span></span><span class=\"menu-overview-claim\">Calidad de mercado en la que confiar</span></a></div><div class=\"row menu-options\"><div class=\"col-sm-2\"><ul class=\"menu-list\"><li><a aria-expanded=\"false\" class=\"visible-xs-block collapsed\" data-toggle=\"collapse\" href=\"#menu42\">Mercados</a><div class=\"collapse mobile-menu-2\" id=\"menu42\"><div class=\"btn-return-2lv\"><button data-target=\"#menu42\" data-toggle=\"collapse\" role=\"button\" type=\"button\">Negociar</button></div><a class=\"\" href=\"/bme-exchange/es/Negociar/Mercados\" target=\"_self\">Mercados</a><ul><li><a class=\"\" href=\"/bme-exchange/es/Negociar/Mercados/Renta-Variable\" target=\"_self\">Acciones</a></li><li><a class=\"\" href=\"/bme-exchange/es/Negociar/Mercados/Renta-Fija\" target=\"_self\">Renta Fija</a></li><li><a class=\"\" href=\"/bme-exchange/es/Negociar/Mercados/ETFs\" target=\"_self\">ETFs</a></li><li><a class=\"\" href=\"/bme-exchange/es/Negociar/Mercados/Warrants\" target=\"_self\">Warrants</a></li><li><a class=\"\" href=\"/bme-exchange/es/Negociar/Mercados/Derivados\" target=\"_self\">Derivados</a></li></ul></div></li></ul></div><div class=\"col-sm-2\"><ul class=\"menu-list\"><li><a aria-expanded=\"false\" class=\"visible-xs-block collapsed\" data-toggle=\"collapse\" href=\"#menu62\">Participantes de Mercado</a><div class=\"collapse mobile-menu-2\" id=\"menu62\"><div class=\"btn-return-2lv\"><button data-target=\"#menu62\" data-toggle=\"collapse\" role=\"button\" type=\"button\">Negociar</button></div><a class=\"\" href=\"/bme-exchange/es/Negociar/Participantes-y-Miembros-de-Mercado\" target=\"_self\">Participantes de Mercado</a><ul><li><a class=\"\" href=\"/bme-exchange/es/Negociar/Participantes/Listado-de-Participantes-y-Miembros-de-Mercado\" target=\"_self\">Miembros</a></li><li><a class=\"\" href=\"/bme-exchange/es/Negociar/Participantes/Servicios-para-Participantes\" target=\"_self\">Servicios para Participantes</a></li></ul></div></li></ul></div><div class=\"col-sm-2\"><ul class=\"menu-list\"><li><a aria-expanded=\"false\" class=\"visible-xs-block collapsed\" data-toggle=\"collapse\" href=\"#menu70\">Plataforma de Negociación</a><div class=\"collapse mobile-menu-2\" id=\"menu70\"><div class=\"btn-return-2lv\"><button data-target=\"#menu70\" data-toggle=\"collapse\" role=\"button\" type=\"button\">Negociar</button></div><a class=\"\" href=\"/bme-exchange/es/Negociar/Plataforma-de-Negociacion\" target=\"_self\">Plataforma de Negociación</a><ul><li><a class=\"\" href=\"/bme-exchange/es/Negociar/Plataforma-de-Negociacion/SIBE-SMART-Acciones\" target=\"_self\">SIBE SMART (Acciones - Warrants - ETFs)</a></li><li><a class=\"\" href=\"/bme-exchange/es/Negociar/Plataforma-de-Negociacion/SEND-SENAF\" target=\"_self\">SEND - SENAF (Renta Fija)</a></li><li><a class=\"\" href=\"https://www.meff.es/esp/Tecnologia/Formas-Conexion\" target=\"_blank\">MEFF-SMART (Derivados)</a></li></ul></div></li></ul></div></div></li></ul></li><li class=\"dropdown\"><a aria-expanded=\"false\" aria-haspopup=\"true\" class=\"dropdown-toggle\" data-toggle=\"dropdown\" href=\"/bme-exchange/es/Indices\" role=\"button\">Índices</a><div class=\"flecha-dropdown\"><div></div><div></div></div><ul class=\"dropdown-menu\"><li class=\"container-fluid\"><div class=\"row\"><a class=\"col-sm-12 dropdown-overview\" href=\"/bme-exchange/es/Indices\" target=\"_self\"><span class=\"menu-overview-title\">Índices</span><span class=\"menu-overview-btn\">Descubre más<span class=\"glyphicon glyphicon-menu-right\"></span></span><span class=\"menu-overview-claim\">Índices de BME. Las principales referencias de los mercados españoles</span></a></div><div class=\"row menu-options\"><div class=\"col-sm-2\"><ul class=\"menu-list\"><li><a class=\"\" href=\"/bme-exchange/es/Indices/Resumen\" target=\"_self\">Resumen de Índices</a></li></ul><ul class=\"menu-list\"><li><a class=\"\" href=\"/bme-exchange/es/Indices/Avisos\" target=\"_self\">Avisos</a></li></ul><ul class=\"menu-list\"><li><a class=\"\" href=\"/bme-exchange/es/Indices/Regulacion\" target=\"_self\">Regulación Índices</a></li></ul><ul class=\"menu-list\"><li><a class=\"\" href=\"/bme-exchange/es/Indices/Comite-Asesor-Tecnico/Comite-Asesor-Tecnico\" target=\"_self\">Comité Asesor Técnico</a></li></ul></div><div class=\"col-sm-2\"><ul class=\"menu-list\"><li><a class=\"\" href=\"/bme-exchange/es/Indices/Ibex\" target=\"_self\">Índices IBEX</a></li></ul></div><div class=\"col-sm-2\"><ul class=\"menu-list\"><li><a class=\"\" href=\"/bme-exchange/es/indices/ESG\" target=\"_self\">Índices ESG</a></li></ul></div><div class=\"col-sm-2\"><ul class=\"menu-list\"><li><a class=\"\" href=\"/bme-exchange/es/Indices/Bolsas\" target=\"_self\">Índices Bolsas</a></li></ul></div><div class=\"col-sm-2\"><ul class=\"menu-list\"><li><a class=\"\" href=\"/bme-exchange/es/Indices/Latibex\" target=\"_self\">Índices Latibex</a></li></ul></div><div class=\"col-sm-2\"><ul class=\"menu-list\"><li><a class=\"\" href=\"/bme-exchange/es/Indices/Renta-Fija\" target=\"_self\">Índices Renta Fija</a></li></ul></div></div></li></ul></li><li class=\"dropdown\"><a aria-expanded=\"false\" aria-haspopup=\"true\" class=\"dropdown-toggle\" data-toggle=\"dropdown\" href=\"/bme-exchange/es/Mercados-y-Cotizaciones\" role=\"button\">Mercados y Cotizaciones</a><div class=\"flecha-dropdown\"><div></div><div></div></div><ul class=\"dropdown-menu\"><li class=\"container-fluid\"><div class=\"row\"><a class=\"col-sm-12 dropdown-overview\" href=\"/bme-exchange/es/Mercados-y-Cotizaciones\" target=\"_self\"><span class=\"menu-overview-title\">Mercados y Cotizaciones</span><span class=\"menu-overview-btn\">Descubre más<span class=\"glyphicon glyphicon-menu-right\"></span></span><span class=\"menu-overview-claim\">La clave para el éxito de cualquier decisión de inversión</span></a></div><div class=\"row menu-options\"><div class=\"col-sm-2\"><ul class=\"menu-list\"><li><a aria-expanded=\"false\" class=\"visible-xs-block collapsed\" data-toggle=\"collapse\" href=\"#menu130\">Acciones</a><div class=\"collapse mobile-menu-2\" id=\"menu130\"><div class=\"btn-return-2lv\"><button data-target=\"#menu130\" data-toggle=\"collapse\" role=\"button\" type=\"button\">Mercados y Cotizaciones</button></div><a class=\"\" href=\"/bme-exchange/es/Mercados-y-Cotizaciones/Acciones/Mercado-Continuo/Precios/ibex-35-ES0SI0000005\" target=\"_self\">Acciones</a><ul><li><span>Mercado Principal</span><ul><li><a class=\"\" href=\"/bme-exchange/es/Mercados-y-Cotizaciones/Acciones/Mercado-Continuo/Precios/ibex-35-ES0SI0000005\" target=\"_self\">Precios</a></li><li><a class=\"\" href=\"/bme-exchange/es/Mercados-y-Cotizaciones/Acciones/Mercado-Continuo/Empresas-Cotizadas\" target=\"_self\">Empresas Cotizadas</a></li><li><a class=\"\" href=\"/bme-exchange/es/Mercados-y-Cotizaciones/Acciones/Mercado-Continuo/Ultima-Informacion-Privilegiada\" target=\"_self\">Información Privilegiada/Otra información relevante</a></li><li><a class=\"\" href=\"/bme-exchange/es/Mercados-y-Cotizaciones/Acciones/Mercado-Continuo/Operaciones-Financieras\" target=\"_self\">Operaciones Financieras</a></li></ul></li><li><a class=\"\" href=\"https://www.latibex.com/esp/Cotizaciones/Acciones\" target=\"_blank\">Latibex</a></li><li><a class=\"\" href=\"https://www.bmegrowth.es/esp/Precios.aspx\" target=\"_blank\">BME Growth</a></li><li><a class=\"\" href=\"https://www.bolsasymercados.es/MTF_Equity/esp/SICAV/Precios.aspx?mercado=ValorLiquidativo\" target=\"_blank\">BME MTF Equity</a></li><li><span>Herramientas</span><ul><li><a class=\"\" href=\"/bme-exchange/es/Mercados-y-Cotizaciones/Acciones/Analisis-y-Herramientas/Analisis-de-empresas/Lighthouse\" target=\"_self\">Análisis Lighthouse Acciones</a></li><li><a class=\"\" href=\"/bme-exchange/es/Mercados-y-Cotizaciones/Acciones/Analisis-y-Herramientas/Analisis-de-empresas/Morningstar/ibex-Medium\" target=\"_self\">Analisis Morningstar Acciones</a></li><li><a class=\"\" href=\"/bme-exchange/es/Negociar/Agenda\" target=\"_self\">Agenda del Inversor</a></li><li><a class=\"\" href=\"/bme-exchange/es/Mercados-y-Cotizaciones/Acciones/Analisis-y-Herramientas/Mi-Cartera\" target=\"_self\">Mi Cartera</a></li></ul></li></ul></div></li></ul></div><div class=\"col-sm-2\"><ul class=\"menu-list\"><li><a aria-expanded=\"false\" class=\"visible-xs-block collapsed\" data-toggle=\"collapse\" href=\"#menu200\">Renta Fija</a><div class=\"collapse mobile-menu-2\" id=\"menu200\"><div class=\"btn-return-2lv\"><button data-target=\"#menu200\" data-toggle=\"collapse\" role=\"button\" type=\"button\">Mercados y Cotizaciones</button></div><a class=\"\" href=\"/bme-exchange/es/Mercados-y-Cotizaciones/Renta-Fija/Precios/\" target=\"_self\">Renta Fija</a><ul><li><a class=\"\" href=\"/bme-exchange/es/Mercados-y-Cotizaciones/Renta-Fija/Precios/\" target=\"_self\">Precios</a></li><li><a class=\"\" href=\"/bme-exchange/es/Mercados-y-Cotizaciones/Renta-Fija/Emisiones-En-Circulacion\" target=\"_self\">Emisiones en circulación</a></li><li><a class=\"\" href=\"/bme-exchange/es/Mercados-y-Cotizaciones/Renta-Fija/Listado-de-Emisores\" target=\"_self\">Emisores</a></li><li><a class=\"\" href=\"/bme-exchange/es/Mercados-y-Cotizaciones/Renta-Fija/Admision-a-Cotizar/Ultimos-Desembolsos\" target=\"_self\">Admisiones a Cotización</a></li><li><a class=\"\" href=\"/bme-exchange/es/Mercados-y-Cotizaciones/Renta-Fija/Anuncios\" target=\"_self\">Anuncios emisiones</a></li><li><a class=\"\" href=\"/bme-exchange/es/Mercados-y-Cotizaciones/Renta-Fija/Noticias\" target=\"_self\">Noticias</a></li><li><a class=\"\" href=\"/bme-exchange/es/Mercados-y-Cotizaciones/Renta-Fija/MARF-Hechos-Relevantes\" target=\"_self\">MARF Hechos Relevantes</a></li><li><a class=\"\" href=\"/bme-exchange/es/Mercados-y-Cotizaciones/Renta-Fija/MARF-Informacion-Financiera\" target=\"_self\">MARF Información Financiera</a></li></ul></div></li></ul></div><div class=\"col-sm-2\"><ul class=\"menu-list\"><li><a aria-expanded=\"false\" class=\"visible-xs-block collapsed\" data-toggle=\"collapse\" href=\"#menu232\">ETFs</a><div class=\"collapse mobile-menu-2\" id=\"menu232\"><div class=\"btn-return-2lv\"><button data-target=\"#menu232\" data-toggle=\"collapse\" role=\"button\" type=\"button\">Mercados y Cotizaciones</button></div><a class=\"\" href=\"/bme-exchange/es/Mercados-y-Cotizaciones/ETFs/Cotizaciones\" target=\"_self\">ETFs</a><ul><li><a class=\"\" href=\"/bme-exchange/es/Mercados-y-Cotizaciones/ETFs/Cotizaciones\" target=\"_self\">Cotizaciones</a></li><li><a class=\"\" href=\"/bme-exchange/es/Mercados-y-Cotizaciones/ETFs/Cierre-Mercado\" target=\"_self\">Cierre de mercado</a></li><li><a class=\"\" href=\"/bme-exchange/es/Mercados-y-Cotizaciones/ETFs/Dividendos\" target=\"_self\">Dividendos</a></li><li><a class=\"\" href=\"/bme-exchange/es/Mercados-y-Cotizaciones/ETFs/Hechos-Relevantes\" target=\"_self\">Hechos Relevantes</a></li><li><a class=\"\" href=\"/bme-exchange/es/Mercados-y-Cotizaciones/ETFs/Herramientas/Mi-Cartera-de-ETFs?m=ETF\" target=\"_self\">Mi Cartera ETF</a></li></ul></div></li></ul></div><div class=\"col-sm-2\"><ul class=\"menu-list\"><li><a aria-expanded=\"false\" class=\"visible-xs-block collapsed\" data-toggle=\"collapse\" href=\"#menu241\">Warrants</a><div class=\"collapse mobile-menu-2\" id=\"menu241\"><div class=\"btn-return-2lv\"><button data-target=\"#menu241\" data-toggle=\"collapse\" role=\"button\" type=\"button\">Mercados y Cotizaciones</button></div><a class=\"\" href=\"/bme-exchange/es/Mercados-y-Cotizaciones/Warrants/Precios/Warrants\" target=\"_self\">Warrants</a><ul><li><a class=\"\" href=\"/bme-exchange/es/Mercados-y-Cotizaciones/Warrants/Precios/Warrants\" target=\"_self\">Cotizaciones</a></li><li><a class=\"\" href=\"/bme-exchange/es/Mercados-y-Cotizaciones/Warrants/Informes\" target=\"_self\">Informes</a></li><li><a class=\"\" href=\"/bme-exchange/es/Mercados-y-Cotizaciones/Warrants/Listado-de-valores\" target=\"_self\">Listado de valores</a></li><li><a class=\"\" href=\"/bme-exchange/es/Mercados-y-Cotizaciones/Warrants/Ajustes-Operaciones-Financieras\" target=\"_self\">Ajustes por Operaciones Financieras</a></li><li><a class=\"\" href=\"/bme-exchange/es/Mercados-y-Cotizaciones/Warrants/Admisiones\" target=\"_self\">Admisiones</a></li></ul></div></li></ul></div><div class=\"col-sm-2\"><ul class=\"menu-list\"><li><a class=\"\" href=\"https://www.meff.es/esp/Derivados-Financieros/Cotizaciones\" target=\"_blank\">Derivados</a></li></ul></div><div class=\"col-sm-2\"><ul class=\"menu-list\"><li><a class=\"\" href=\"/bme-exchange/es/Mercados-y-Cotizaciones/Estadisticas\" target=\"_self\">Estadísticas</a></li></ul><ul class=\"menu-list\"><li><a class=\"\" href=\"https://www.bmemarketdata.es/esp/\" target=\"_blank\">Market Data</a></li></ul></div></div></li></ul></li><li><a class=\"\" href=\"/bme-exchange/es/Regulacion/Buscador-Regulacion\" target=\"_self\">Regulación</a></li><li class=\"dropdown\"><a aria-expanded=\"false\" aria-haspopup=\"true\" class=\"dropdown-toggle\" data-toggle=\"dropdown\" href=\"/bme-exchange/es/Para-Inversores\" role=\"button\">Para inversores</a><div class=\"flecha-dropdown\"><div></div><div></div></div><ul class=\"dropdown-menu\"><li class=\"container-fluid\"><div class=\"row\"><a class=\"col-sm-12 dropdown-overview\" href=\"/bme-exchange/es/Para-Inversores\" target=\"_self\"><span class=\"menu-overview-title\">Para inversores</span><span class=\"menu-overview-btn\">Descubre más<span class=\"glyphicon glyphicon-menu-right\"></span></span><span class=\"menu-overview-claim\">Tecnología e innovación al servicio de los inversores</span></a></div><div class=\"row menu-options\"><div class=\"col-sm-2\"><ul class=\"menu-list\"><li><a class=\"\" href=\"/bme-exchange/es/Para-Inversores/Institucionales\" target=\"_self\">Institucionales</a></li></ul></div><div class=\"col-sm-2\"><ul class=\"menu-list\"><li><a class=\"\" href=\"/bme-exchange/es/Para-Inversores/Minoristas\" target=\"_self\">Minoristas</a></li></ul></div></div></li></ul></li><li><a class=\"\" href=\"/bme-exchange/es/Formacion\" target=\"_self\">Formación</a></li>\n",
      "<li class=\"bme-brand\">\n",
      "<a href=\"/esp/Home\" target=\"_blank\" title=\"Web Corporativa BME\">\n",
      "<img alt=\"Logo BME\" aria-hidden=\"true\" src=\"/bme-exchange/images/base/LogoBMEInv.svg\"/>\n",
      "<span class=\"corporate-web-btn\">Web Corporativa<span class=\"glyphicon glyphicon-menu-right\"></span></span>\n",
      "</a>\n",
      "</li>\n",
      "</ul>\n",
      "</div>\n",
      "</div></nav>\n",
      "</header>\n",
      "<div class=\"overview-header\"><img alt=\"Imagen de fondo\" aria-hidden=\"true\" class=\"overview-background-img\" src=\"/bme-exchange/images/imgsSubidas/Webs_Bolsas/Bolsa-de-Madrid-BME.gif\"/><div class=\"stock-exchange-logo\"><div class=\"se-logo-prev\"></div><div class=\"se-logo\"><img src=\"/bme-exchange/images/Logos/logo_BMadrid_negativo.svg\"/></div><div class=\"se-logo-next\"></div></div></div><div class=\"stock-exchange-title\"><div class=\"container\"><div class=\"row\"><div class=\"col-sm-12\"><h1>Bolsa de Madrid</h1></div></div></div></div>\n",
      "<div class=\"container\"><div class=\"row\"><div class=\"col-sm-12\">\n",
      "<ol class=\"breadcrumb hidden-print\" id=\"breadcrumbs\"><li><a href=\"/bme-exchange/es/Home\" target=\"_self\">Home</a></li><li class=\"active\"><a href=\"/bme-exchange/es/Bolsa-Madrid\" target=\"_self\">Bolsa de Madrid</a></li></ol>\n",
      "<script type=\"application/ld+json\">{\"@context\": \"http://schema.org\",\"@type\": \"BreadcrumbList\",\"itemListElement\":[{\"@type\": \"ListItem\",\"position\": 1,\"item\":{\"@id\": \"https://www.bolsasymercados.es/bme-exchange/es/Home\",\"name\": \"Home\"}},{\"@type\": \"ListItem\",\"position\": 2,\"item\":{\"@id\": \"https://www.bolsasymercados.es/bme-exchange/es/Bolsa-Madrid\",\"name\": \"Bolsa de Madrid\"}}]}</script>\n",
      "</div></div></div>\n",
      "<div class=\"container\"><div class=\"row\"><div class=\"col-sm-12\">\n",
      "</div></div></div>\n",
      "<div class=\"Contenido\">\n",
      "</div>\n",
      "<main class=\"Contenido\" id=\"main-content\">\n",
      "<section>\n",
      "<div class=\"container\"><div class=\"row\"><div class=\"col-sm-12 overview-intro\">\n",
      "<div><p style=\"text-align: justify;\">La Bolsa de Madrid fue creada en 1831, hace más de 190 años, lo que la convierte en una de las instituciones financieras más antiguas de España. A lo largo de su dilatada historia, la Bolsa de Madrid ha jugado un papel decisivo en la historia de España, sorteando largos ciclos industriales y económicos de auge con otros caracterizados por las crisis y las caídas, pero actuando siempre como un auténtico barómetro de la evolución económica de España. La Bolsa de Madrid ha jugado un rol crucial en el desarrollo de España y de su economía, ya que canaliza el ahorro hacia la inversión productiva y ayuda a la generación de riqueza. Como mercado secundario, la Bolsa ofrece a los inversores la oportunidad de convertir sus acciones en efectivo cuando lo deseen. La liquidez, como uno de los principales atributos de cualquier mercado, permite realizar cualquier operación con independencia de su carácter de corto, medio o largo plazo de la inversión y la Bolsa de Madrid sigue manteniendo una fuerte cuota de mercado para los valores españoles.</p><div class=\"overview-btns\"><a class=\"overview-btn\" href=\"/bme-exchange/es/Bolsa-Madrid/Sobre-Nosotros\" target=\"_self\">Leer más</a></div>\n",
      "</div><aside>\n",
      "<h2 class=\"overview-title\">Enlaces Rápidos</h2><ul class=\"list-unstyled overview-aside-links\"><li><a class=\"mover\" href=\"/bme-exchange/es/Bolsa-Madrid/Sobre-Nosotros\" target=\"_self\">Sobre nosotros<span class=\"icon mas1\"></span></a></li><li><a class=\"mover\" href=\"/bme-exchange/es/Bolsa-Madrid/Palacio-Visitas\" target=\"_self\">El Palacio de la Bolsa<span class=\"icon mas1\"></span></a></li><li><a class=\"mover\" href=\"/bme-exchange/es/Negociar/Participantes/Miembros-Renta-Variable\" target=\"_self\">Miembros<span class=\"icon mas1\"></span></a></li><li><a class=\"mover\" href=\"/bme-exchange/es/Para-Inversores/Protector-Inversor\" target=\"_self\">Protector del Inversor<span class=\"icon mas1\"></span></a></li><li><a class=\"mover\" href=\"/bme-exchange/es/Mercados-y-Cotizaciones/Estadisticas/Boletin-Cotizacion-Madrid\" target=\"_self\">Boletín diario<span class=\"icon mas1\"></span></a></li><li><a class=\"mover\" href=\"/bme-exchange/es/Regulacion/Buscador-Regulacion?fromDate=2021-08-23&amp;toDate=2022-08-23&amp;Market=&amp;Company=01&amp;Subject=&amp;Type=&amp;InForce=S&amp;Number=&amp;Title=\" target=\"_self\">Regulación<span class=\"icon mas1\"></span></a></li><li><a class=\"mover\" href=\"/bme-exchange/docs/docsSubidos/Trading/Tarifas-BME-Exchange.pdf\" target=\"_blank\">Tarifas<span class=\"icon mas1\"></span></a></li></ul></aside>\n",
      "</div></div></div>\n",
      "</section>\n",
      "<section class=\"overview section-buttons Blanco NumCols3\">\n",
      "<div class=\"container\"><div class=\"row\"><div class=\"col-sm-12\">\n",
      "<div class=\"section-buttons-list\"><a class=\"section-buttons-button\" href=\"/bme-exchange/es/Mercados-y-Cotizaciones/Acciones/Mercado-Continuo/Precios/ibex-35-ES0SI0000005\" target=\"_self\"><span>IBEX 35</span><span class=\"section-buttons-icon\"><img alt=\"IBEX 35\" aria-hidden=\"true\" class=\"object-fit\" src=\"/bme-exchange/images/imgsSubidas/Iconos-BME-azul/IBEX35-BENEFITS-icon-BME.svg\"/></span></a>\n",
      "<a class=\"section-buttons-button\" href=\"/bme-exchange/es/Mercados-y-Cotizaciones\" target=\"_self\"><span>Mercado y Cotizaciones</span><span class=\"section-buttons-icon\"><img alt=\"Mercado y Cotizaciones\" aria-hidden=\"true\" class=\"object-fit\" src=\"/bme-exchange/images/imgsSubidas/Iconos-BME-azul/Session-Prices-BME.svg\"/></span></a>\n",
      "<a class=\"section-buttons-button\" href=\"/bme-exchange/es/Mercados-y-Cotizaciones/Estadisticas\" target=\"_self\"><span>Estadísticas </span><span class=\"section-buttons-icon\"><img alt=\"Estadísticas \" aria-hidden=\"true\" class=\"object-fit\" src=\"/bme-exchange/images/imgsSubidas/Iconos-BME-azul/Indices-Data-Feeds-BME.png\"/></span></a>\n",
      "</div>\n",
      "</div></div></div>\n",
      "</section>\n",
      "<section class=\"overview section-highlight AzulOscuro\">\n",
      "<div class=\"container\"><div class=\"row\"><div class=\"col-sm-12\">\n",
      "<a class=\"section-highlight-component\" href=\"https://www.bolsasymercados.es/esp/Estudios-Publicaciones/Informe-Mercado/2022\" target=\"_self\"><div class=\"section-highlight-background\"><div class=\"section-highlight-background-color\"></div></div>\n",
      "<div class=\"section-highlight-content\">\n",
      "<div class=\"section-highlight-main\"><h2 class=\"overview-title\">Informe de mercado</h2><h3 class=\"section-highlight-title\">Informe de Mercado 2022</h3><p class=\"section-highlight-text\">Principales estadísticas de los mercados de BME durante 2022.</p><div class=\"overview-btns section-highlight-btns\"><span class=\"overview-btn\">Leer informe</span></div>\n",
      "</div></div>\n",
      "</a>\n",
      "</div></div></div>\n",
      "</section>\n",
      "<section class=\"overview section-banners Blanco section-banners-3banners\">\n",
      "<div class=\"container\"><div class=\"row\"><div class=\"col-sm-12\">\n",
      "<div class=\"section-banners-list\"><article><a href=\"/bme-exchange/es/Como-Cotizar/Toques-Campana?fromDate=2021-08-23&amp;toDate=2023-08-23&amp;selectLocation=Bolsa-Madrid&amp;EventTitle=\" target=\"_self\"><span class=\"section-banners-element\"><span class=\"section-banners-image-title\">APERTURAS DE HONOR</span><div class=\"section-banners-image\"><img alt=\"APERTURAS DE HONOR\" aria-hidden=\"true\" class=\"object-fit\" src=\"/bme-exchange/images/imgsSubidas/Webs_Bolsas/Toque-campana-Bolsa-BME.png\"/></div>\n",
      "<span class=\"section-banners-content\"><h3 class=\"section-banners-title\">Toques de Campana</h3></span><div class=\"overview-btns\"><span class=\"overview-btn\">Ver todas</span></div>\n",
      "</span></a></article>\n",
      "<article><a href=\"https://www.bolsasymercados.es/esp/Estudios-Publicaciones/Documento/5571_Informe_sobre_la_Propiedad_de_las_Acciones_cotizadas\" target=\"_blank\"><span class=\"section-banners-element\"><span class=\"section-banners-image-title\">Informe</span><div class=\"section-banners-image\"><img alt=\"Informe\" aria-hidden=\"true\" class=\"object-fit\" src=\"/bme-exchange/images/imgsSubidas/Webs_Bolsas/Informe-sobre-propiedad-deAcciones-cotizadas-BME.png\"/></div>\n",
      "<span class=\"section-banners-content\"><h3 class=\"section-banners-title\">Informe sobre la propiedad de las acciones cotizadas</h3></span><div class=\"overview-btns\"><span class=\"overview-btn\">Leer informe</span></div>\n",
      "</span></a></article>\n",
      "<article><a href=\"https://www.bolsasymercados.es/esp/Sostenibilidad/Personas/Dia-Educacion-Financiera\" target=\"_self\"><span class=\"section-banners-element\"><span class=\"section-banners-image-title\">EDUCACIÓN FINANCIERA</span><div class=\"section-banners-image\"><img alt=\"EDUCACIÓN FINANCIERA\" aria-hidden=\"true\" class=\"object-fit\" src=\"/bme-exchange/images/imgsSubidas/Webs_Bolsas/Financial-education.png\"/></div>\n",
      "<span class=\"section-banners-content\"><h3 class=\"section-banners-title\">Día de la Educación Financiera</h3></span><div class=\"overview-btns\"><span class=\"overview-btn\">Saber más</span></div>\n",
      "</span></a></article>\n",
      "</div>\n",
      "</div></div></div>\n",
      "</section>\n",
      "<section class=\"overview section-banner Blanco DerechaPeq\">\n",
      "<div class=\"container\"><div class=\"row\"><div class=\"col-sm-12\">\n",
      "<a href=\"https://www.contenidos-selfbank.es/curso-bolsa-madrid\" target=\"_self\"><span class=\"section-banner-content\"><h2 class=\"overview-title section-banner-title\">Próximos eventos</h2><div class=\"section-banner-image\"><img alt=\"¿Te interesa el mundo de la inversión?\" aria-hidden=\"true\" class=\"object-fit\" src=\"/bme-exchange/images/imgsSubidas/Webs_Bolsas/Curso-de-iniciacion-bolsa-SelfBank-BME-MAD.png\"/></div>\n",
      "<span class=\"section-banner-text\"><h3 class=\"\">¿Te interesa el mundo de la inversión?</h3><p>Te invitamos a nuestro Curso de Iniciación a la Inversión en Bolsa, en colaboración con SelfBank. </p><p></p><p>¡Plazas limitadas!</p></span><div class=\"overview-btns section-banner-btns\"><span class=\"overview-btn\">Inscríbete ahora</span></div>\n",
      "</span></a>\n",
      "</div></div></div>\n",
      "</section>\n",
      "<section class=\"overview section-banner Turquesa IzquierdaPeq\">\n",
      "<div class=\"container\"><div class=\"row\"><div class=\"col-sm-12\">\n",
      "<span class=\"section-banner-content\"><div class=\"section-banner-image\"><img alt=\"PALACIO DE LA BOLSA DE MADRID\" aria-hidden=\"true\" class=\"object-fit\" src=\"/bme-exchange/images/imgsSubidas/Webs_Bolsas/BM-banner-edificio-bolsa-madrid-parquet-14.png\"/></div>\n",
      "<span class=\"section-banner-text\"><h3 class=\"\">PALACIO DE LA BOLSA DE MADRID</h3><p>Visita el Palacio y descubre su historia y sus secretos.</p></span><div class=\"overview-btns section-banner-btns\"><a class=\"overview-btn\" href=\"/bme-exchange/es/Bolsa-Madrid/Palacio-Visitas\" target=\"_self\">Visitas guiadas</a><a class=\"overview-btn\" href=\"https://my.matterport.com/show/?m=7qQdPX13Pum\" target=\"_blank\">Tour virtual</a><a class=\"overview-btn\" href=\"/bme-exchange/es/Espacios-Corporativos\" target=\"_self\">Alquiler de Espacios</a></div>\n",
      "</span>\n",
      "</div></div></div>\n",
      "</section>\n",
      "<section class=\"overview section-highlight AzulOscuro\">\n",
      "<div class=\"container\"><div class=\"row\"><div class=\"col-sm-12\">\n",
      "<a class=\"section-highlight-component\" data-categoryga=\"Contacto\" data-labelga=\"Contacto Bolsa Madrid\" data-valuega=\"1\" href=\"/bme-exchange/es/Contacto#Bolsas-locales\" target=\"_self\"><div class=\"section-highlight-background\"><div class=\"section-highlight-background-color\"></div></div>\n",
      "<div class=\"section-highlight-content\">\n",
      "<div class=\"section-highlight-main\"><h2 class=\"overview-title\">Contacto</h2><h3 class=\"section-highlight-title\">¡Hablemos!</h3><p class=\"section-highlight-text\">Para más información o preguntas sobre nuestros servicios. No dudes en contactar con nosotros. Estamos aquí para ayudarte.</p><div class=\"overview-btns section-highlight-btns\"><span class=\"overview-btn\">Contáctanos</span></div>\n",
      "</div></div>\n",
      "</a>\n",
      "</div></div></div>\n",
      "</section>\n",
      "</main>\n",
      "<div class=\"hidden-print home\" data-url=\"https://www.bolsasymercados.es/bme-exchange/es/Bolsa-Madrid\" id=\"AccionesPag\">\n",
      "<div class=\"links\">\n",
      "<a class=\"icon twitter\" href=\"#share_in_twitter\" title=\"Compartir en Twitter\"></a>\n",
      "<a class=\"icon whatsapp\" href=\"#share_in_whatsapp\" title=\"Enviar por WhatsApp\"></a>\n",
      "<a class=\"icon linkedin\" href=\"#share_in_linkedin\" title=\"Compartir en LinkedIn\"></a>\n",
      "<a class=\"icon facebook\" href=\"#share_in_facebook\" title=\"Compartir en Facebook\"></a>\n",
      "<a class=\"icon email sep\" href=\"#share_in_mail\" title=\"Enviar por email\"></a>\n",
      "<a class=\"icon print sep\" href=\"#share_in_print\" title=\"Imprimir\"></a>\n",
      "</div><a class=\"tirador\" href=\"#share_in_open\">\n",
      "<span aria-hidden=\"true\" class=\"glyphicon\"></span>\n",
      "</a>\n",
      "</div>\n",
      "<a class=\"hidden-print hidden\" href=\"#top\" id=\"VolverInicio\" target=\"_self\"><span aria-hidden=\"true\" class=\"glyphicon glyphicon-chevron-up\"></span></a>\n",
      "<footer class=\"hidden-print\" id=\"Pie\">\n",
      "<div id=\"LinksPie\">\n",
      "<div class=\"container\"><div class=\"row\">\n",
      "<div class=\"col-lg-7 col-md-12 links\">\n",
      "<div><div class=\"titulo-col-pie\"><span>MERCADO</span></div><ul><li><a href=\"/bme-exchange/es/Negociar/Calendario-Mercado\" target=\"_self\">Calendario de Mercado</a></li>\n",
      "<li><a href=\"/bme-exchange/es/Negociar/Horario-Mercado\" target=\"_self\">Horario de Mercado</a></li>\n",
      "<li><a href=\"/bme-exchange/es/Market-Status\" target=\"_self\">Estado del Mercado</a></li>\n",
      "<li><a href=\"/bme-exchange/es/Negociar/Mercados/Renta-Variable/MIFID-II/Informes-Best-Execution\" target=\"_self\">MiFID II Renta Variable</a></li>\n",
      "<li><a href=\"/bme-exchange/es/Negociar/Mercados/Renta-Fija/MIFID-II/Informes-Best-Execution\" target=\"_self\">MiFID II Renta Fija</a></li>\n",
      "<li><a href=\"https://www.meff.es/esp/MIFID-II\" target=\"_blank\">MiFID II Derivados</a></li>\n",
      "</ul></div><div><div class=\"titulo-col-pie\"><span>LINKS RÁPIDOS</span></div><ul><li><a href=\"/bme-exchange/es/Mercados-y-Cotizaciones/Acciones/Mercado-Continuo/Precios/ibex-35-ES0SI0000005\" target=\"_self\">IBEX 35®</a></li>\n",
      "<li><a href=\"/bme-exchange/es/Mercados-y-Cotizaciones/Acciones/Mercado-Continuo/Operaciones-Financieras/Dividendos\" target=\"_self\">Dividendos</a></li>\n",
      "<li><a href=\"/bme-exchange/es/Negociar/Agenda\" target=\"_self\">Agenda del Inversor</a></li>\n",
      "<li><a href=\"/bme-exchange/es/Mercados-y-Cotizaciones/Acciones/Analisis-y-Herramientas/Mi-Cartera\" target=\"_self\">Mi Cartera</a></li>\n",
      "<li><a href=\"/bme-exchange/es/Mercados-y-Cotizaciones/Estadisticas/Boletines-Informes\" target=\"_self\">Boletines de cotización</a></li>\n",
      "<li><a href=\"/bme-exchange/es/Mercados-y-Cotizaciones/Estadisticas\" target=\"_self\">Estadísticas</a></li>\n",
      "</ul></div><div><div class=\"titulo-col-pie\"><span>SERVICIOS</span></div><ul><li><a href=\"https://www.bolsasymercados.es/BME_4Companies\" target=\"_blank\">BME 4Companies</a></li>\n",
      "<li><a href=\"https://www.bmeregulatoryservices.es\" target=\"_blank\">BME Regulatory Services</a></li>\n",
      "<li><a href=\"/bme-exchange/es/Negociar/Participantes/Servicios-para-Participantes\" target=\"_self\">Servicios para intermediarios</a></li>\n",
      "<li><a href=\"https://www.bmemarketdata.es\" target=\"_blank\">Market Data</a></li>\n",
      "<li><a href=\"/bme-exchange/es/Espacios-Corporativos\" target=\"_self\">Espacios para Eventos Corporativos</a></li>\n",
      "<li><a href=\"https://www.bolsasymercados.es/esp/Sala-Comunicacion\" target=\"_blank\">Sala de Comunicación BME</a></li>\n",
      "</ul></div>\n",
      "</div><div class=\"col-lg-5 col-md-12 siguenos\">\n",
      "<div>\n",
      "<div class=\"titulo-col-pie\"><span>SÍGUENOS:</span></div>\n",
      "<div class=\"RRSS\">\n",
      "<a class=\"icon twitter\" href=\"https://twitter.com/GrupoBME\" target=\"_blank\" title=\"Twitter\"></a>\n",
      "<a class=\"icon flickr\" href=\"https://www.flickr.com/photos/archivobme/\" target=\"_blank\" title=\"Flickr\"></a>\n",
      "<a class=\"icon linkedin\" href=\"https://www.linkedin.com/company/grupo-bme\" target=\"_blank\" title=\"LinkedIn\"></a>\n",
      "<a class=\"icon youtube\" href=\"https://www.youtube.com/user/GrupoBME/\" target=\"_blank\" title=\"YouTube\"></a>\n",
      "<a class=\"icon rss\" href=\"/bme-exchange/es/RSS\" target=\"_self\" title=\"RSS\"></a>\n",
      "</div>\n",
      "</div><div>\n",
      "<a class=\"Contacto mover overview-btn blue\" href=\"/bme-exchange/es/Contacto#Informacion-General\">CONTACTO</a>\n",
      "</div><div>\n",
      "<a href=\"/esp/Home\" target=\"_blank\"><img alt=\"Logo Bolsas y Mercados Españoles\" class=\"Logo\" src=\"/bme-exchange/images/base/LogoBMEInv.svg?v=Six\"/></a>\n",
      "</div>\n",
      "</div>\n",
      "</div></div>\n",
      "</div>\n",
      "<div id=\"FranjaPie\">\n",
      "<ul class=\"list-inline\">\n",
      "<li>Copyright® BME 2023</li>\n",
      "<li><a href=\"/bme-exchange/es/Disclaimer\" target=\"_self\">Disclaimer</a></li>\n",
      "<li><a href=\"/bme-exchange/es/privacidad/Politica-de-Privacidad\" target=\"_self\">Política de Privacidad</a></li>\n",
      "<li><a href=\"/bme-exchange/es/Politica-de-cookies\" target=\"_self\">Política de cookies</a></li>\n",
      "<li><a href=\"/bme-exchange/es/privacidad/Aviso-Legal\" target=\"_self\">Aviso legal</a></li>\n",
      "<li><a href=\"/bme-exchange/es/Mapa-Web\" target=\"_self\">Mapa Web</a></li>\n",
      "</ul>\n",
      "</div>\n",
      "<div class=\"visible-xs-block\" id=\"testXS\"></div>\n",
      "</footer>\n",
      "<footer class=\"visible-print-block\" id=\"UrlPrint\">\n",
      "<div class=\"container\"><div class=\"row\">\n",
      "<div class=\"col-xs-6\">Copyright® BME 2023</div>\n",
      "<div class=\"col-xs-6 text-right\">[ https://www.bolsasymercados.es/bme-exchange/ ]</div>\n",
      "</div></div>\n",
      "</footer>\n",
      "</body>\n",
      "</html>\n",
      "\n"
     ]
    }
   ],
   "source": [
    "import requests\n",
    "from bs4 import BeautifulSoup\n",
    "import pandas as pd\n",
    "\n",
    "# Send a GET request to the webpage\n",
    "url = \"https://www.bolsamadrid.es\"\n",
    "response = requests.get(url)\n",
    "\n",
    "# Create a BeautifulSoup object to parse the webpage content\n",
    "soup = BeautifulSoup(response.content, \"html.parser\")\n",
    "\n",
    "print (soup)\n",
    "# Find the table \"Índices de Renta Variable\"\n",
    "#table = soup.find(\"div\", {\"class\": \"table-responsive\"})\n",
    "#table = soup.find(\"div\", class_=\"table-responsive\")\n",
    "#table = soup.find(\"table\", {\"class\": \"table-responsive\"})\n"
   ]
  },
  {
   "cell_type": "code",
   "execution_count": 6,
   "id": "6d189d2c",
   "metadata": {
    "ExecuteTime": {
     "end_time": "2023-02-20T12:18:23.585794Z",
     "start_time": "2023-02-20T12:18:23.573832Z"
    }
   },
   "outputs": [
    {
     "name": "stdout",
     "output_type": "stream",
     "text": [
      "\r\n",
      "\tBolsa de Madrid | BME Exchange\r\n",
      "\n"
     ]
    }
   ],
   "source": [
    "# Extract the title tag from the HTML content\n",
    "title = soup.title.text\n",
    "\n",
    "# Print the title\n",
    "print(title)"
   ]
  },
  {
   "cell_type": "code",
   "execution_count": 7,
   "id": "4a1d9bbb",
   "metadata": {
    "ExecuteTime": {
     "end_time": "2023-02-20T12:18:27.835096Z",
     "start_time": "2023-02-20T12:18:27.819263Z"
    },
    "scrolled": true
   },
   "outputs": [
    {
     "name": "stdout",
     "output_type": "stream",
     "text": [
      "https://privada.bmerv.es/\n",
      "https://www.bmegrowth.es/Privado/LogIn.aspx\n",
      "https://ww2.aiaf.es/\n",
      "https://www.meff.es/esp/Sobre-Nosotros/Empresa-MEFF\n",
      "https://www.bolsasymercados.es/BME_4Companies/esp/Home\n",
      "https://www.meff.es/esp/Tecnologia/Formas-Conexion\n",
      "https://www.latibex.com/esp/Cotizaciones/Acciones\n",
      "https://www.bmegrowth.es/esp/Precios.aspx\n",
      "https://www.bolsasymercados.es/MTF_Equity/esp/SICAV/Precios.aspx?mercado=ValorLiquidativo\n",
      "https://www.meff.es/esp/Derivados-Financieros/Cotizaciones\n",
      "https://www.bmemarketdata.es/esp/\n",
      "https://www.bolsasymercados.es/esp/Estudios-Publicaciones/Informe-Mercado/2022\n",
      "https://www.bolsasymercados.es/esp/Estudios-Publicaciones/Documento/5571_Informe_sobre_la_Propiedad_de_las_Acciones_cotizadas\n",
      "https://www.bolsasymercados.es/esp/Sostenibilidad/Personas/Dia-Educacion-Financiera\n",
      "https://www.contenidos-selfbank.es/curso-bolsa-madrid\n",
      "https://my.matterport.com/show/?m=7qQdPX13Pum\n",
      "https://www.meff.es/esp/MIFID-II\n",
      "https://www.bolsasymercados.es/BME_4Companies\n",
      "https://www.bmeregulatoryservices.es\n",
      "https://www.bmemarketdata.es\n",
      "https://www.bolsasymercados.es/esp/Sala-Comunicacion\n",
      "https://twitter.com/GrupoBME\n",
      "https://www.flickr.com/photos/archivobme/\n",
      "https://www.linkedin.com/company/grupo-bme\n",
      "https://www.youtube.com/user/GrupoBME/\n"
     ]
    }
   ],
   "source": [
    "# Find all links on the page\n",
    "links = soup.find_all(\"a\")\n",
    "\n",
    "# Extract links with https protocol\n",
    "https_links = []\n",
    "for link in links:\n",
    "    href = link.get(\"href\")\n",
    "    if href is not None and href.startswith(\"https\"):\n",
    "        https_links.append(href)\n",
    "\n",
    "# Print the https links\n",
    "for link in https_links:\n",
    "    print(link)"
   ]
  },
  {
   "cell_type": "code",
   "execution_count": 8,
   "id": "ad60b98b",
   "metadata": {
    "ExecuteTime": {
     "end_time": "2023-02-20T12:18:29.817062Z",
     "start_time": "2023-02-20T12:18:29.795105Z"
    }
   },
   "outputs": [],
   "source": [
    "# create dataframe\n",
    "df = pd.DataFrame(https_links) \n",
    "\n",
    "# saving the dataframe \n",
    "df.to_csv('bolsamadrid_bs.csv', index=False) "
   ]
  },
  {
   "cell_type": "markdown",
   "id": "edb0a7ea",
   "metadata": {},
   "source": [
    "### Selenium scraping"
   ]
  },
  {
   "cell_type": "markdown",
   "id": "2ca7457e",
   "metadata": {},
   "source": [
    "#### Using Selenium to scrape http://quotes.toscrape.com"
   ]
  },
  {
   "cell_type": "code",
   "execution_count": 9,
   "id": "28ce2d22",
   "metadata": {
    "ExecuteTime": {
     "end_time": "2023-02-20T00:18:21.259443Z",
     "start_time": "2023-02-20T00:18:18.368936Z"
    }
   },
   "outputs": [],
   "source": [
    "from selenium import webdriver\n",
    "from selenium.webdriver.chrome.service import Service\n",
    "from selenium.webdriver.common.by import By\n",
    "import pandas as pd\n",
    "\n",
    "opts = webdriver.ChromeOptions()\n",
    "\n",
    "opts.binary_location = r'C:\\Program Files\\BraveSoftware\\Brave-Browser\\Application\\brave.exe'\n",
    "opts.headless = True\n",
    "\n",
    "executable_path=r'C:\\WebDrivers\\chromedriver.exe'\n",
    "s = Service(executable_path)\n",
    "\n",
    "browser = webdriver.Chrome(service=s, options=opts)\n",
    "\n",
    "browser.get(\"http://quotes.toscrape.com\")"
   ]
  },
  {
   "cell_type": "code",
   "execution_count": 10,
   "id": "3f796981",
   "metadata": {
    "ExecuteTime": {
     "end_time": "2023-02-20T00:18:24.001562Z",
     "start_time": "2023-02-20T00:18:23.984616Z"
    }
   },
   "outputs": [],
   "source": [
    "# Find all the quote elements on the page\n",
    "quote_elements = browser.find_elements(By.CLASS_NAME, \"quote\")"
   ]
  },
  {
   "cell_type": "code",
   "execution_count": 11,
   "id": "04435de2",
   "metadata": {
    "ExecuteTime": {
     "end_time": "2023-02-20T00:18:29.159236Z",
     "start_time": "2023-02-20T00:18:28.253270Z"
    },
    "scrolled": true
   },
   "outputs": [],
   "source": [
    "quotes_dict = []\n",
    "\n",
    "# Print the text of each quote\n",
    "for quote_element in quote_elements:\n",
    "    text = quote_element.find_element(By.CLASS_NAME, \"text\").text\n",
    "    author = quote_element.find_element(By.CLASS_NAME,\"author\").text\n",
    "    tags = ', '.join([tag.text for tag in quote_element.find_elements(By.CLASS_NAME,\"tag\")])\n",
    "    quotes_dict.append({'Text': text, 'Author': author, 'Tags': tags})"
   ]
  },
  {
   "cell_type": "code",
   "execution_count": 12,
   "id": "ec9f87b8",
   "metadata": {
    "ExecuteTime": {
     "end_time": "2023-02-20T00:18:30.352013Z",
     "start_time": "2023-02-20T00:18:30.346033Z"
    },
    "scrolled": true
   },
   "outputs": [
    {
     "name": "stdout",
     "output_type": "stream",
     "text": [
      "[{'Text': '“The world as we have created it is a process of our thinking. It cannot be changed without changing our thinking.”', 'Author': 'Albert Einstein', 'Tags': 'change, deep-thoughts, thinking, world'}, {'Text': '“It is our choices, Harry, that show what we truly are, far more than our abilities.”', 'Author': 'J.K. Rowling', 'Tags': 'abilities, choices'}, {'Text': '“There are only two ways to live your life. One is as though nothing is a miracle. The other is as though everything is a miracle.”', 'Author': 'Albert Einstein', 'Tags': 'inspirational, life, live, miracle, miracles'}, {'Text': '“The person, be it gentleman or lady, who has not pleasure in a good novel, must be intolerably stupid.”', 'Author': 'Jane Austen', 'Tags': 'aliteracy, books, classic, humor'}, {'Text': \"“Imperfection is beauty, madness is genius and it's better to be absolutely ridiculous than absolutely boring.”\", 'Author': 'Marilyn Monroe', 'Tags': 'be-yourself, inspirational'}, {'Text': '“Try not to become a man of success. Rather become a man of value.”', 'Author': 'Albert Einstein', 'Tags': 'adulthood, success, value'}, {'Text': '“It is better to be hated for what you are than to be loved for what you are not.”', 'Author': 'André Gide', 'Tags': 'life, love'}, {'Text': \"“I have not failed. I've just found 10,000 ways that won't work.”\", 'Author': 'Thomas A. Edison', 'Tags': 'edison, failure, inspirational, paraphrased'}, {'Text': \"“A woman is like a tea bag; you never know how strong it is until it's in hot water.”\", 'Author': 'Eleanor Roosevelt', 'Tags': 'misattributed-eleanor-roosevelt'}, {'Text': '“A day without sunshine is like, you know, night.”', 'Author': 'Steve Martin', 'Tags': 'humor, obvious, simile'}]\n"
     ]
    }
   ],
   "source": [
    "print(quotes_dict)"
   ]
  },
  {
   "cell_type": "code",
   "execution_count": 13,
   "id": "8dc6aa50",
   "metadata": {
    "ExecuteTime": {
     "end_time": "2023-02-20T00:18:34.001148Z",
     "start_time": "2023-02-20T00:18:33.986874Z"
    }
   },
   "outputs": [],
   "source": [
    "# Create a Pandas DataFrame from the extracted data\n",
    "df = pd.DataFrame(quotes_dict, columns=['Text', 'Author', 'Tags'])\n",
    "\n",
    "# Save the DataFrame to a CSV file\n",
    "df.to_csv('quotes_sel.csv', index=False)"
   ]
  },
  {
   "cell_type": "code",
   "execution_count": 14,
   "id": "160e8407",
   "metadata": {
    "ExecuteTime": {
     "end_time": "2023-02-20T00:18:38.634222Z",
     "start_time": "2023-02-20T00:18:36.528788Z"
    }
   },
   "outputs": [],
   "source": [
    "# Close the browser\n",
    "browser.quit()"
   ]
  },
  {
   "cell_type": "markdown",
   "id": "b185fd2b",
   "metadata": {},
   "source": [
    "#### Using Selenium to scrape https://www.bolsamadrid.es"
   ]
  },
  {
   "cell_type": "markdown",
   "id": "d96df338",
   "metadata": {},
   "source": [
    "Let's scrape on this web page in order to extract the a dataframe with the information of the table \"Indices de Renta Variable\", from the summary index "
   ]
  },
  {
   "cell_type": "code",
   "execution_count": 15,
   "id": "5c88262f",
   "metadata": {
    "ExecuteTime": {
     "end_time": "2023-02-20T00:18:52.742716Z",
     "start_time": "2023-02-20T00:18:49.969951Z"
    }
   },
   "outputs": [],
   "source": [
    "from selenium import webdriver\n",
    "from selenium.webdriver.chrome.service import Service\n",
    "from selenium.webdriver.common.by import By\n",
    "import pandas as pd\n",
    "\n",
    "opts = webdriver.ChromeOptions()\n",
    "\n",
    "opts.binary_location = r'C:\\Program Files\\BraveSoftware\\Brave-Browser\\Application\\brave.exe'\n",
    "\n",
    "# Run the page on a hidden state\n",
    "opts.headless = True\n",
    "\n",
    "executable_path=r'C:\\WebDrivers\\chromedriver.exe'\n",
    "s = Service(executable_path)\n",
    "\n",
    "browser = webdriver.Chrome(service=s, options=opts)\n",
    "\n",
    "browser.get(\"https://www.bolsamadrid.es/\")"
   ]
  },
  {
   "cell_type": "code",
   "execution_count": 16,
   "id": "7c2c82fd",
   "metadata": {
    "ExecuteTime": {
     "end_time": "2023-02-20T00:18:56.168312Z",
     "start_time": "2023-02-20T00:18:56.067448Z"
    },
    "scrolled": true
   },
   "outputs": [],
   "source": [
    "# Get rid of accept cookies button, using button xpath (inspecting on web page)\n",
    "button_accept_cookies = browser.find_element(By.XPATH,'//*[@id=\"onetrust-accept-btn-handler\"]').click()"
   ]
  },
  {
   "cell_type": "code",
   "execution_count": 17,
   "id": "f7e5b654",
   "metadata": {
    "ExecuteTime": {
     "end_time": "2023-02-20T00:19:00.590775Z",
     "start_time": "2023-02-20T00:19:00.509479Z"
    },
    "scrolled": true
   },
   "outputs": [],
   "source": [
    "# Drop down index list, using xpath (inspecting on web page)\n",
    "menu_index_list = browser.find_element(By.XPATH,'//*[@id=\"navbar-menu\"]/li[3]/a').click()"
   ]
  },
  {
   "cell_type": "code",
   "execution_count": 18,
   "id": "6830d108",
   "metadata": {
    "ExecuteTime": {
     "end_time": "2023-02-20T00:19:05.244478Z",
     "start_time": "2023-02-20T00:19:04.751886Z"
    },
    "scrolled": true
   },
   "outputs": [],
   "source": [
    "# Go to the index summary wep page in order to extract table, using button xpath (inspecting on web page)\n",
    "menu_index_summary = browser.find_element(By.XPATH,'//*[@id=\"navbar-menu\"]/li[3]/ul/li/div[2]/div[1]/ul[1]/li/a').click()"
   ]
  },
  {
   "cell_type": "code",
   "execution_count": 19,
   "id": "fa6eb6d3",
   "metadata": {
    "ExecuteTime": {
     "end_time": "2023-02-20T00:19:08.860688Z",
     "start_time": "2023-02-20T00:19:08.842266Z"
    }
   },
   "outputs": [],
   "source": [
    "# Go to the section where is the data information\n",
    "table = browser.find_element(By.CLASS_NAME, 'table-responsive')"
   ]
  },
  {
   "cell_type": "code",
   "execution_count": 20,
   "id": "df189bff",
   "metadata": {
    "ExecuteTime": {
     "end_time": "2023-02-20T00:19:12.822523Z",
     "start_time": "2023-02-20T00:19:12.694638Z"
    }
   },
   "outputs": [],
   "source": [
    "# Getting the header info\n",
    "headers = table.find_element(By.TAG_NAME, \"thead\").find_elements(By.TAG_NAME, \"th\")\n",
    "header_names = [header.text for header in headers]"
   ]
  },
  {
   "cell_type": "code",
   "execution_count": 21,
   "id": "b73ecf02",
   "metadata": {
    "ExecuteTime": {
     "end_time": "2023-02-20T00:19:16.183940Z",
     "start_time": "2023-02-20T00:19:16.145102Z"
    }
   },
   "outputs": [],
   "source": [
    "# Getting the table rows\n",
    "rows = table.find_element(By.TAG_NAME, \"tbody\").find_elements(By.TAG_NAME, \"tr\")"
   ]
  },
  {
   "cell_type": "code",
   "execution_count": 22,
   "id": "e1c194f6",
   "metadata": {
    "ExecuteTime": {
     "end_time": "2023-02-20T00:19:32.834305Z",
     "start_time": "2023-02-20T00:19:20.394040Z"
    }
   },
   "outputs": [],
   "source": [
    "# Get all data and place it on the dataframe df\n",
    "data = []\n",
    "for row in rows:\n",
    "    row_data = {}\n",
    "    for i, info in enumerate(row.find_elements(By.TAG_NAME,\"td\")):\n",
    "        row_data[header_names[i]] = info.text\n",
    "    data.append(row_data)\n",
    "\n",
    "df = pd.DataFrame(data)"
   ]
  },
  {
   "cell_type": "code",
   "execution_count": 23,
   "id": "01e31143",
   "metadata": {
    "ExecuteTime": {
     "end_time": "2023-02-20T00:19:37.446314Z",
     "start_time": "2023-02-20T00:19:37.434117Z"
    }
   },
   "outputs": [
    {
     "name": "stdout",
     "output_type": "stream",
     "text": [
      "                     Índice     Último  % Dif.     Máximo     Mínimo  \\\n",
      "0                  IBEX 35®   9.333,00   0,06%   9.363,10   9.240,80   \n",
      "1   IBEX 35® con Dividendos  29.997,40   0,06%  30.094,20  29.700,90   \n",
      "2          IBEX MEDIUM CAP®  13.900,00   0,14%  13.921,40  13.795,50   \n",
      "3           IBEX SMALL CAP®   8.596,70   0,21%   8.613,50   8.518,40   \n",
      "4           IBEX 35® Bancos     636,30  -0,25%     639,70     630,50   \n",
      "..                      ...        ...     ...        ...        ...   \n",
      "80    Índice ITX Inverso X3      75,20  -3,47%      79,20      73,50   \n",
      "81    Índice TEF Inverso X5   2.214,70  -6,01%   2.439,60   2.170,90   \n",
      "82    Índice SAN Inverso X5     115,10   4,16%     118,50     109,20   \n",
      "83   Índice BBVA Inverso X5     127,50   2,41%     131,80     124,00   \n",
      "84    Índice ITX Inverso X5     115,20  -5,81%     125,70     110,90   \n",
      "\n",
      "         Fecha      Hora % Dif. Año  \n",
      "0   17/02/2023  17:38:00     13,41%  \n",
      "1   17/02/2023  17:38:00     13,92%  \n",
      "2   17/02/2023  17:38:00      8,61%  \n",
      "3   17/02/2023  17:38:00     19,64%  \n",
      "4   17/02/2023  17:38:00     21,55%  \n",
      "..         ...       ...        ...  \n",
      "80  17/02/2023  17:38:00    -39,21%  \n",
      "81  17/02/2023  17:38:00    -51,05%  \n",
      "82  17/02/2023  17:38:00    -74,28%  \n",
      "83  17/02/2023  17:38:00    -70,61%  \n",
      "84  17/02/2023  17:38:00    -58,08%  \n",
      "\n",
      "[85 rows x 8 columns]\n"
     ]
    }
   ],
   "source": [
    "# Show data of dataframe\n",
    "print(df)"
   ]
  },
  {
   "cell_type": "code",
   "execution_count": 24,
   "id": "37c2520d",
   "metadata": {
    "ExecuteTime": {
     "end_time": "2023-02-20T00:19:44.996445Z",
     "start_time": "2023-02-20T00:19:42.878776Z"
    }
   },
   "outputs": [],
   "source": [
    "# Close the browser\n",
    "browser.quit()"
   ]
  },
  {
   "cell_type": "code",
   "execution_count": 25,
   "id": "2a649fab",
   "metadata": {
    "ExecuteTime": {
     "end_time": "2023-02-20T00:19:46.958728Z",
     "start_time": "2023-02-20T00:19:46.952838Z"
    }
   },
   "outputs": [],
   "source": [
    "# saving the dataframe \n",
    "df.to_csv('bolsamadrid_sel.csv', index=False) "
   ]
  },
  {
   "cell_type": "markdown",
   "id": "10c4d9d0",
   "metadata": {},
   "source": [
    "## Exercise 2: Document in a Word document the data set generated \n",
    "\n",
    "It has to be done with the information contained in the different Kaggle archives. As an example, use the kaggle reference: \n",
    "https://www.kaggle.com/datasets/vivovinco/20212022-football-team-stats\n"
   ]
  },
  {
   "cell_type": "markdown",
   "id": "4ac84380",
   "metadata": {},
   "source": [
    "The file 'M10 T01 - Exercise2.doc' can be found on the same folder of github"
   ]
  },
  {
   "cell_type": "markdown",
   "id": "2ddac7f3",
   "metadata": {},
   "source": [
    "## Exercise 3: Choose a web page of your own selection and perform scraping\n",
    "\n",
    "First using Selenium and them using Scrapy"
   ]
  },
  {
   "cell_type": "markdown",
   "id": "da349d9c",
   "metadata": {},
   "source": [
    "For this exercise let's scrap **glassdoor.com**"
   ]
  },
  {
   "cell_type": "markdown",
   "id": "2faa9bea",
   "metadata": {},
   "source": [
    "### Scraping using Selenium"
   ]
  },
  {
   "cell_type": "code",
   "execution_count": 26,
   "id": "fb2fdd79",
   "metadata": {
    "ExecuteTime": {
     "end_time": "2023-02-20T00:20:31.008960Z",
     "start_time": "2023-02-20T00:20:26.092991Z"
    }
   },
   "outputs": [],
   "source": [
    "from selenium import webdriver\n",
    "from selenium.webdriver.chrome.service import Service\n",
    "from selenium.webdriver.common.keys import Keys\n",
    "from selenium.webdriver.common.by import By\n",
    "import pandas as pd\n",
    "\n",
    "opts = webdriver.ChromeOptions()\n",
    "\n",
    "opts.binary_location = r'C:\\Program Files\\BraveSoftware\\Brave-Browser\\Application\\brave.exe'\n",
    "\n",
    "# Run the page on a hidden state\n",
    "#opts.headless = True\n",
    "\n",
    "executable_path=r'C:\\WebDrivers\\chromedriver.exe'\n",
    "s = Service(executable_path)\n",
    "\n",
    "browser = webdriver.Chrome(service=s, options=opts)\n",
    "\n",
    "browser.get(\"https://www.glassdoor.com/Job/index.htm/\")"
   ]
  },
  {
   "cell_type": "code",
   "execution_count": 27,
   "id": "385572d5",
   "metadata": {
    "ExecuteTime": {
     "end_time": "2023-02-20T00:20:36.983271Z",
     "start_time": "2023-02-20T00:20:36.915220Z"
    }
   },
   "outputs": [],
   "source": [
    "# Get rid of accept cookies button, using button xpath (inspecting on web page)\n",
    "button_accept_cookies = browser.find_element(By.XPATH,'//*[@id=\"onetrust-accept-btn-handler\"]').click()"
   ]
  },
  {
   "cell_type": "code",
   "execution_count": 28,
   "id": "da6fbbe5",
   "metadata": {
    "ExecuteTime": {
     "end_time": "2023-02-20T00:20:43.147730Z",
     "start_time": "2023-02-20T00:20:43.053266Z"
    }
   },
   "outputs": [],
   "source": [
    "# Search for job listings\n",
    "search_box = browser.find_element(By.NAME, \"sc.keyword\")\n",
    "search_box.send_keys(\"Data Scientist\")\n",
    "search_box.send_keys(Keys.RETURN)"
   ]
  },
  {
   "cell_type": "code",
   "execution_count": 29,
   "id": "6aebf1bf",
   "metadata": {
    "ExecuteTime": {
     "end_time": "2023-02-20T00:20:53.407574Z",
     "start_time": "2023-02-20T00:20:53.213005Z"
    }
   },
   "outputs": [],
   "source": [
    "# Find the location input box and enter the location\n",
    "location_box = browser.find_element(By.ID, \"sc.location\")\n",
    "location_box.clear() # clear any existing text in the box\n",
    "location_box.send_keys(\"Barcelona(Spain), NY\\n\")"
   ]
  },
  {
   "cell_type": "code",
   "execution_count": 30,
   "id": "6953db80",
   "metadata": {
    "ExecuteTime": {
     "end_time": "2023-02-20T00:20:57.809960Z",
     "start_time": "2023-02-20T00:20:57.784951Z"
    }
   },
   "outputs": [],
   "source": [
    "# Find all de job cards on this first page\n",
    "job_elems = browser.find_elements(By.XPATH, '/html/body/div[2]/div/div/div/div/div[2]/section/article/div[1]/ul/li')"
   ]
  },
  {
   "cell_type": "code",
   "execution_count": 31,
   "id": "0cb6a16f",
   "metadata": {
    "ExecuteTime": {
     "end_time": "2023-02-20T00:21:06.177197Z",
     "start_time": "2023-02-20T00:21:05.575262Z"
    },
    "scrolled": true
   },
   "outputs": [],
   "source": [
    "# Create an empty list called jobs to place de information \n",
    "jobs = []\n",
    "\n",
    "for job_elem in job_elems:\n",
    "    jobs.append(job_elem.text.split('\\n'))"
   ]
  },
  {
   "cell_type": "code",
   "execution_count": 32,
   "id": "47042ef8",
   "metadata": {
    "ExecuteTime": {
     "end_time": "2023-02-20T00:21:09.298260Z",
     "start_time": "2023-02-20T00:21:09.291232Z"
    }
   },
   "outputs": [
    {
     "name": "stdout",
     "output_type": "stream",
     "text": [
      "[['4.4', 'Frontiers Media Ltd', 'Data Engineer', 'Trabajo en remoto', '26d'], ['5.0', 'Quibim', 'Data Scientist', 'Trabajo en remoto', '30d+'], ['3.9', 'Dow Jones', 'Data Scientist, Professional News', 'Barcelona', '25d'], ['3.8', 'Bertelsmann SE & Co. KGaA - Corporate Center', 'Traineeship for Data Scientists (m/f/d)', 'Spain', '16d'], ['3.8', 'Bertelsmann SE & Co. KGaA - Corporate Center', 'Data Science Traineeship', 'Spain', '16d'], ['nixi1', 'Head of Data Science', 'Trabajo en remoto', 'Easy Apply', '30d+'], ['3.8', 'Bertelsmann SE & Co. KGaA - Corporate Center', 'Data Science Trainee (m/f/d)', 'Spain', '16d'], ['3.8', 'Bertelsmann SE & Co. KGaA - Corporate Center', 'Data Science Graduate Program', 'Spain', '16d'], ['4.4', 'Metyis', 'Data Scientist', 'Barcelona', 'Easy Apply', '19d'], ['3.8', 'Bertelsmann SE & Co. KGaA - Corporate Center', 'Graduate Program for Data Scientists (m/f/d)', 'Spain', '16d'], ['3.9', 'Philotech', 'Data Scientist', 'Getafe', '30d+'], ['4.2', 'Bayer', 'Data Scientist Crop Science', 'Barcelona', '12d'], ['3.8', 'Bertelsmann SE & Co. KGaA - Corporate Center', 'Traineeship for Data Science Graduates (m/f/d)', 'Spain', '16d'], ['3.8', 'Bertelsmann SE & Co. KGaA - Corporate Center', 'Graduate Program for Data Science Graduates (m/f/d)', 'Spain', '16d'], ['3.9', 'SEAT SA', 'DATA Scientist', 'Barcelona', '30d+'], ['3.5', 'Mango', 'BECARIO/A DATA SCIENTIST', 'Barcelona', '5d'], ['3.6', 'Qiagen', 'Scientist | Barcelona', 'Barcelona', '12d'], ['BEDROCK Intelligence', 'Junior Data Scientist', 'Spain', '30d+'], ['3.3', 'The Big Tech Experience', 'Data Scientist', 'Zaragoza', '30d+'], ['Merlin Digital Partner', 'Python Dev / Data Scientist', 'Barcelona', 'Easy Apply', '30d+'], ['4.4', 'TravelPerk', 'Staff Data Scientist', 'Barcelona', 'Easy Apply', '6d'], ['3.4', 'Arbolus Technologies', 'Data Scientist', 'Barcelona', 'Easy Apply', '3d'], ['4.9', 'Madbox', 'Junior Data Engineer', 'Barcelona', '2d'], ['4.0', 'AIS Group', 'DATA SCIENTIST JUNIOR', 'Barcelona', '30d+'], ['4.2', 'Schneider Electric', 'Data Scientist', 'Barcelona', '30d+'], ['5.0', 'Vintra', 'ML Research Scientist', 'Barcelona', 'Easy Apply', '30d+'], ['3.9', 'Geoblink', 'Data Scientist', 'Trabajo en remoto', '20d'], ['4.0', 'Vass', 'Data Scientist', 'Trabajo en remoto', '30d+'], ['2.4', 'Aptitude Global', 'Senior Data Scientist', 'Trabajo en remoto', '30d+'], ['4.2', 'GMV', 'Data Scientist', 'Spain', '30d+']]\n"
     ]
    }
   ],
   "source": [
    "# Print list found\n",
    "print(jobs)"
   ]
  },
  {
   "cell_type": "code",
   "execution_count": 33,
   "id": "50638651",
   "metadata": {
    "ExecuteTime": {
     "end_time": "2023-02-20T00:22:36.969840Z",
     "start_time": "2023-02-20T00:22:34.345406Z"
    }
   },
   "outputs": [],
   "source": [
    "# Close the browser\n",
    "browser.quit()"
   ]
  },
  {
   "cell_type": "markdown",
   "id": "069cf331",
   "metadata": {},
   "source": [
    "### Scraping using Scrapy"
   ]
  },
  {
   "cell_type": "markdown",
   "id": "7704630f",
   "metadata": {},
   "source": [
    "Once tried to get data from with Scrapy www.glassdoor.com, I've always gotten the same error 403 that means website is protected from Scrapy with special rules.\n",
    "\n",
    "So, I've chosen the web https://www.imdb.com/ to extract data with Scrapy:\n",
    "**scrapy startproject m10t01**\n",
    "\n",
    "Then, the folder structure is created."
   ]
  },
  {
   "cell_type": "code",
   "execution_count": null,
   "id": "0eccdc4e",
   "metadata": {
    "ExecuteTime": {
     "end_time": "2023-02-17T17:44:35.560585Z",
     "start_time": "2023-02-17T17:44:34.588965Z"
    }
   },
   "outputs": [],
   "source": [
    "# This is the code writen to extract data. Its writen on file \"m10.py\" on spiders folder\n",
    "\n",
    "# Importing Scrapy library\n",
    "import scrapy\n",
    "\n",
    "# Create the spider class with the name imdb, that has to be called from shell\n",
    "class ImdbSpider(scrapy.Spider):\n",
    "    name = \"imdb\"\n",
    "    allowed_domains = [\"imdb.com\"]\n",
    "    start_urls = ['http://www.imdb.com/chart/top',]\n",
    "   \n",
    "    # this is the data extracte from web, and placed on a csv file\n",
    "    def parse(self, response):\n",
    "        # table coloums of all the movies \n",
    "        columns = response.css('table[data-caller-name=\"chart-top250movie\"] tbody[class=\"lister-list\"] tr')\n",
    "        for col in columns:\n",
    "            # Get the required text from element.\n",
    "            yield {\n",
    "                \"title\": col.css(\"td[class='titleColumn'] a::text\").extract_first(),\n",
    "                \"year\": col.css(\"td[class='titleColumn'] span::text\").extract_first().strip(\"() \"),\n",
    "                \"rating\": col.css(\"td[class='ratingColumn imdbRating'] strong::text\").extract_first(),\n",
    "\n",
    "            }"
   ]
  },
  {
   "cell_type": "markdown",
   "id": "b5a586ab",
   "metadata": {},
   "source": [
    "At this point, with the code file created, on the shell we have to run the following code:\n",
    "**scrapy crawl imd -o imdb.csv**\n",
    "\n",
    "So, the file **imdb.csv** is created with the results"
   ]
  }
 ],
 "metadata": {
  "kernelspec": {
   "display_name": "Python 3 (ipykernel)",
   "language": "python",
   "name": "python3"
  },
  "language_info": {
   "codemirror_mode": {
    "name": "ipython",
    "version": 3
   },
   "file_extension": ".py",
   "mimetype": "text/x-python",
   "name": "python",
   "nbconvert_exporter": "python",
   "pygments_lexer": "ipython3",
   "version": "3.9.12"
  },
  "latex_envs": {
   "LaTeX_envs_menu_present": true,
   "autoclose": false,
   "autocomplete": true,
   "bibliofile": "biblio.bib",
   "cite_by": "apalike",
   "current_citInitial": 1,
   "eqLabelWithNumbers": true,
   "eqNumInitial": 1,
   "hotkeys": {
    "equation": "Ctrl-E",
    "itemize": "Ctrl-I"
   },
   "labels_anchors": false,
   "latex_user_defs": false,
   "report_style_numbering": false,
   "user_envs_cfg": false
  },
  "nbTranslate": {
   "displayLangs": [
    "*"
   ],
   "hotkey": "alt-t",
   "langInMainMenu": true,
   "sourceLang": "en",
   "targetLang": "fr",
   "useGoogleTranslate": true
  },
  "toc": {
   "base_numbering": 1,
   "nav_menu": {},
   "number_sections": true,
   "sideBar": true,
   "skip_h1_title": true,
   "title_cell": "Table of Contents",
   "title_sidebar": "Contents",
   "toc_cell": false,
   "toc_position": {
    "height": "calc(100% - 180px)",
    "left": "10px",
    "top": "150px",
    "width": "384px"
   },
   "toc_section_display": true,
   "toc_window_display": true
  },
  "varInspector": {
   "cols": {
    "lenName": 16,
    "lenType": 16,
    "lenVar": 40
   },
   "kernels_config": {
    "python": {
     "delete_cmd_postfix": "",
     "delete_cmd_prefix": "del ",
     "library": "var_list.py",
     "varRefreshCmd": "print(var_dic_list())"
    },
    "r": {
     "delete_cmd_postfix": ") ",
     "delete_cmd_prefix": "rm(",
     "library": "var_list.r",
     "varRefreshCmd": "cat(var_dic_list()) "
    }
   },
   "types_to_exclude": [
    "module",
    "function",
    "builtin_function_or_method",
    "instance",
    "_Feature"
   ],
   "window_display": false
  }
 },
 "nbformat": 4,
 "nbformat_minor": 5
}
